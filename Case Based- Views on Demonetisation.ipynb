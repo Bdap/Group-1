{
 "cells": [
  {
   "cell_type": "code",
   "execution_count": 244,
   "metadata": {
    "collapsed": true
   },
   "outputs": [],
   "source": [
    "import pandas as pd\n",
    "import matplotlib.pyplot as plt\n",
    "import numpy as np\n",
    "import re"
   ]
  },
  {
   "cell_type": "code",
   "execution_count": 245,
   "metadata": {
    "collapsed": false
   },
   "outputs": [],
   "source": [
    "sentiment=pd.read_csv(\"NLP_Project_SentimentTagged.csv\")\n",
    "sentiment[\"Clean_Tweet\"]=sentiment[\"Clean_Tweet\"].astype(str)"
   ]
  },
  {
   "cell_type": "code",
   "execution_count": 251,
   "metadata": {
    "collapsed": false
   },
   "outputs": [],
   "source": [
    "#Ye bhai chal gaya\n",
    "k=[]\n",
    "j=1\n",
    "for i in sentiment[\"Clean_Tweet\"]:\n",
    "    a=re.search(\"supportmodi|SUPPORTMODI|SupportModi|supportModi|Supportmodi\",i)!=None\n",
    "    b=re.search(\"[Gg]reat [sS]tep|[Gg]reat [Ii]nitiative\",i)!=None\n",
    "    c=re.search(\"[sS]urgical [sS]trike|[sS]urgical[sS]trike\",i)!=None\n",
    "    d=re.search(\"[cC]urb\",i)!=None\n",
    "    e=re.search(\"[fF]ights[Cc]orruption|[fF]ights [Cc]orruption\",i)!=None\n",
    "    m=re.search(\"Good Work|good work|Good work|[aA]pplaud|[aAppreciate]|APPRECIATE|[bB]rilliant|BRILLIANT|[bB]old|BOLD\",i)!=None\n",
    "    g=re.search(\"achedin|ache din|Achedin|AcheDin|ACHEDIN|Ache Din|Ache din\",i)!=None\n",
    "    h=re.search(\"anticorruption|ANTICORRUPTION|anti corruption|Anti Corruption|anti-corruption|Anti-corruption\",i)!=None\n",
    "    n=re.search(\"[bB][hH][aA][kK][tT][sS]\",i)!=None\n",
    "    i=re.search(\"jaihind|JAIHIND|jai hind|Jai Hind|Jai hind|jai Hind\",i)!=None\n",
    "    #y=re.search(\"[aA][aA][pP][tT][aA][rR][dD][sS]\",i)!=None\n",
    "    \n",
    "    if (a==True) or (b==True) or (c==True) or (d==True) or (e==True) or (g==True) or (h==True) or (i==True) or (m==True) & (m==False):\n",
    "        k.append(\"Positive\")\n",
    "        j = j+1\n",
    "    else:\n",
    "        k.append(\"Negative\")\n",
    "        j = j+1"
   ]
  },
  {
   "cell_type": "code",
   "execution_count": 255,
   "metadata": {
    "collapsed": false
   },
   "outputs": [
    {
     "data": {
      "text/plain": [
       "0.023351858461224697"
      ]
     },
     "execution_count": 255,
     "metadata": {},
     "output_type": "execute_result"
    }
   ],
   "source": [
    "k=pd.Series(k)\n",
    "sentiment[\"k\"]=k\n",
    "a=len(sentiment[sentiment[\"k\"]==\"Positive\"])\n",
    "b=len(sentiment)\n",
    "a/b"
   ]
  }
 ],
 "metadata": {
  "anaconda-cloud": {},
  "kernelspec": {
   "display_name": "Python [conda root]",
   "language": "python",
   "name": "conda-root-py"
  },
  "language_info": {
   "codemirror_mode": {
    "name": "ipython",
    "version": 3
   },
   "file_extension": ".py",
   "mimetype": "text/x-python",
   "name": "python",
   "nbconvert_exporter": "python",
   "pygments_lexer": "ipython3",
   "version": "3.5.2"
  }
 },
 "nbformat": 4,
 "nbformat_minor": 1
}
