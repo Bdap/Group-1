{
 "cells": [
  {
   "cell_type": "code",
   "execution_count": 55,
   "metadata": {
    "collapsed": false,
    "scrolled": true
   },
   "outputs": [],
   "source": [
    "import graphlab\n"
   ]
  },
  {
   "cell_type": "code",
   "execution_count": 56,
   "metadata": {
    "collapsed": false
   },
   "outputs": [
    {
     "data": {
      "text/html": [
       "<pre>Finished parsing file /Users/Dinesh/nilesh.csv</pre>"
      ],
      "text/plain": [
       "Finished parsing file /Users/Dinesh/nilesh.csv"
      ]
     },
     "metadata": {},
     "output_type": "display_data"
    },
    {
     "data": {
      "text/html": [
       "<pre>Parsing completed. Parsed 100 lines in 0.373003 secs.</pre>"
      ],
      "text/plain": [
       "Parsing completed. Parsed 100 lines in 0.373003 secs."
      ]
     },
     "metadata": {},
     "output_type": "display_data"
    },
    {
     "name": "stdout",
     "output_type": "stream",
     "text": [
      "------------------------------------------------------\n",
      "Inferred types from first 100 line(s) of file as \n",
      "column_type_hints=[str,str]\n",
      "If parsing fails due to incorrect types, you can correct\n",
      "the inferred type list above and pass it to read_csv in\n",
      "the column_type_hints argument\n",
      "------------------------------------------------------\n"
     ]
    },
    {
     "data": {
      "text/html": [
       "<pre>Finished parsing file /Users/Dinesh/nilesh.csv</pre>"
      ],
      "text/plain": [
       "Finished parsing file /Users/Dinesh/nilesh.csv"
      ]
     },
     "metadata": {},
     "output_type": "display_data"
    },
    {
     "data": {
      "text/html": [
       "<pre>Parsing completed. Parsed 19613 lines in 0.156902 secs.</pre>"
      ],
      "text/plain": [
       "Parsing completed. Parsed 19613 lines in 0.156902 secs."
      ]
     },
     "metadata": {},
     "output_type": "display_data"
    }
   ],
   "source": [
    "tweets = graphlab.SFrame('nilesh.csv')"
   ]
  },
  {
   "cell_type": "code",
   "execution_count": 68,
   "metadata": {
    "collapsed": false
   },
   "outputs": [],
   "source": [
    "tweets['word_count'] = graphlab.text_analytics.count_words(tweets['Clean Tweet'])"
   ]
  },
  {
   "cell_type": "code",
   "execution_count": 69,
   "metadata": {
    "collapsed": false
   },
   "outputs": [],
   "source": [
    "tweets['textstoprem'] = tweets['word_count'].dict_trim_by_keys(graphlab.text_analytics.stopwords(), exclude=True)"
   ]
  },
  {
   "cell_type": "code",
   "execution_count": 70,
   "metadata": {
    "collapsed": false
   },
   "outputs": [
    {
     "data": {
      "text/html": [
       "<div style=\"max-height:1000px;max-width:1500px;overflow:auto;\"><table frame=\"box\" rules=\"cols\">\n",
       "    <tr>\n",
       "        <th style=\"padding-left: 1em; padding-right: 1em; text-align: center\">Date</th>\n",
       "        <th style=\"padding-left: 1em; padding-right: 1em; text-align: center\">Clean Tweet</th>\n",
       "        <th style=\"padding-left: 1em; padding-right: 1em; text-align: center\">word_count</th>\n",
       "        <th style=\"padding-left: 1em; padding-right: 1em; text-align: center\">textstoprem</th>\n",
       "    </tr>\n",
       "    <tr>\n",
       "        <td style=\"padding-left: 1em; padding-right: 1em; text-align: center; vertical-align: top\">29/11/16 5:16</td>\n",
       "        <td style=\"padding-left: 1em; padding-right: 1em; text-align: center; vertical-align: top\">Yes it s a pity that you<br>also had started talking ...</td>\n",
       "        <td style=\"padding-left: 1em; padding-right: 1em; text-align: center; vertical-align: top\">{'and': 1, 'twitter': 1,<br>'it': 1, 'talking': 1, ...</td>\n",
       "        <td style=\"padding-left: 1em; padding-right: 1em; text-align: center; vertical-align: top\">{'pity': 1, 'tatus': 1,<br>'started': 1, 'twitter': ...</td>\n",
       "    </tr>\n",
       "    <tr>\n",
       "        <td style=\"padding-left: 1em; padding-right: 1em; text-align: center; vertical-align: top\">29/11/16 5:10</td>\n",
       "        <td style=\"padding-left: 1em; padding-right: 1em; text-align: center; vertical-align: top\">Pain of downtroddens<br>labours n low income ...</td>\n",
       "        <td style=\"padding-left: 1em; padding-right: 1em; text-align: center; vertical-align: top\">{'labours': 1, 'masses':<br>1, 'pain': 1, ...</td>\n",
       "        <td style=\"padding-left: 1em; padding-right: 1em; text-align: center; vertical-align: top\">{'labours': 1, 'pain': 1,<br>'twitter': 1, 'pic': 1, ...</td>\n",
       "    </tr>\n",
       "    <tr>\n",
       "        <td style=\"padding-left: 1em; padding-right: 1em; text-align: center; vertical-align: top\">29/11/16 4:29</td>\n",
       "        <td style=\"padding-left: 1em; padding-right: 1em; text-align: center; vertical-align: top\">3Novices   Demonitisation<br>Chalta hai has to end ...</td>\n",
       "        <td style=\"padding-left: 1em; padding-right: 1em; text-align: center; vertical-align: top\">{'a': 2, 'hai': 1,<br>'novem': 1, 'says': 1, ...</td>\n",
       "        <td style=\"padding-left: 1em; padding-right: 1em; text-align: center; vertical-align: top\">{'piyush': 1, 'hai': 1,<br>'novem': 1, 'end': 1, ...</td>\n",
       "    </tr>\n",
       "    <tr>\n",
       "        <td style=\"padding-left: 1em; padding-right: 1em; text-align: center; vertical-align: top\">29/11/16 4:29</td>\n",
       "        <td style=\"padding-left: 1em; padding-right: 1em; text-align: center; vertical-align: top\">and fabricated crowd will<br>not come netas will n ...</td>\n",
       "        <td style=\"padding-left: 1em; padding-right: 1em; text-align: center; vertical-align: top\">{'and': 1, 'them': 1,<br>'b': 1, 'crowd': 1, ...</td>\n",
       "        <td style=\"padding-left: 1em; padding-right: 1em; text-align: center; vertical-align: top\">{'crowd': 1, 'netas': 1,<br>'pay': 1, 'due': 1, ...</td>\n",
       "    </tr>\n",
       "    <tr>\n",
       "        <td style=\"padding-left: 1em; padding-right: 1em; text-align: center; vertical-align: top\">29/11/16 4:20</td>\n",
       "        <td style=\"padding-left: 1em; padding-right: 1em; text-align: center; vertical-align: top\">The municipal election<br>result in maharashtra is ...</td>\n",
       "        <td style=\"padding-left: 1em; padding-right: 1em; text-align: center; vertical-align: top\">{'prime': 1, 'a': 1,<br>'in': 1, 'municipal': 1, ...</td>\n",
       "        <td style=\"padding-left: 1em; padding-right: 1em; text-align: center; vertical-align: top\">{'prime': 1, 'municipal':<br>1, 'minister': 1, ...</td>\n",
       "    </tr>\n",
       "    <tr>\n",
       "        <td style=\"padding-left: 1em; padding-right: 1em; text-align: center; vertical-align: top\">29/11/16 4:18</td>\n",
       "        <td style=\"padding-left: 1em; padding-right: 1em; text-align: center; vertical-align: top\">AK doesn t kno banking<br>channels of pymt as he ...</td>\n",
       "        <td style=\"padding-left: 1em; padding-right: 1em; text-align: center; vertical-align: top\">{'channels': 1,<br>'himself': 1, 'doesn' ...</td>\n",
       "        <td style=\"padding-left: 1em; padding-right: 1em; text-align: center; vertical-align: top\">{'channels': 1, 'kno': 1,<br>'pinch': 1, 'ak': 1, ...</td>\n",
       "    </tr>\n",
       "    <tr>\n",
       "        <td style=\"padding-left: 1em; padding-right: 1em; text-align: center; vertical-align: top\">29/11/16 4:07</td>\n",
       "        <td style=\"padding-left: 1em; padding-right: 1em; text-align: center; vertical-align: top\">Demonitisation or<br>adamamcy a cashless ...</td>\n",
       "        <td style=\"padding-left: 1em; padding-right: 1em; text-align: center; vertical-align: top\">{'sector': 1, 'or': 1,<br>'preceded': 1, 'towar ...</td>\n",
       "        <td style=\"padding-left: 1em; padding-right: 1em; text-align: center; vertical-align: top\">{'sector': 1, 'preceded':<br>1, 'strides': 1, ...</td>\n",
       "    </tr>\n",
       "    <tr>\n",
       "        <td style=\"padding-left: 1em; padding-right: 1em; text-align: center; vertical-align: top\">29/11/16 3:54</td>\n",
       "        <td style=\"padding-left: 1em; padding-right: 1em; text-align: center; vertical-align: top\">I Pray for    May He come<br>with flying colors if he ...</td>\n",
       "        <td style=\"padding-left: 1em; padding-right: 1em; text-align: center; vertical-align: top\">{'has': 2, 'good': 1,<br>'may': 2, 'i': 1, 'for': ...</td>\n",
       "        <td style=\"padding-left: 1em; padding-right: 1em; text-align: center; vertical-align: top\">{'good': 1, 'pray': 1,<br>'flying': 1, 'bad': 1, ...</td>\n",
       "    </tr>\n",
       "    <tr>\n",
       "        <td style=\"padding-left: 1em; padding-right: 1em; text-align: center; vertical-align: top\">29/11/16 3:23</td>\n",
       "        <td style=\"padding-left: 1em; padding-right: 1em; text-align: center; vertical-align: top\">Because Modi removed all<br>hoarded black money ...</td>\n",
       "        <td style=\"padding-left: 1em; padding-right: 1em; text-align: center; vertical-align: top\">{'all': 1, 'because': 1,<br>'money': 1, 'twitter' ...</td>\n",
       "        <td style=\"padding-left: 1em; padding-right: 1em; text-align: center; vertical-align: top\">{'badly': 1, 'statu': 1,<br>'affected': 1, 'money': ...</td>\n",
       "    </tr>\n",
       "    <tr>\n",
       "        <td style=\"padding-left: 1em; padding-right: 1em; text-align: center; vertical-align: top\">29/11/16 2:15</td>\n",
       "        <td style=\"padding-left: 1em; padding-right: 1em; text-align: center; vertical-align: top\">barkha u tried a lot to<br>change the view of Mr ...</td>\n",
       "        <td style=\"padding-left: 1em; padding-right: 1em; text-align: center; vertical-align: top\">{'a': 1, 'on': 1,<br>'tried': 1, 'to': 1, ...</td>\n",
       "        <td style=\"padding-left: 1em; padding-right: 1em; text-align: center; vertical-align: top\">{'demonitisation': 1,<br>'barkha': 1, 'lot': 1, ...</td>\n",
       "    </tr>\n",
       "</table>\n",
       "[10 rows x 4 columns]<br/>\n",
       "</div>"
      ],
      "text/plain": [
       "Columns:\n",
       "\tDate\tstr\n",
       "\tClean Tweet\tstr\n",
       "\tword_count\tdict\n",
       "\ttextstoprem\tdict\n",
       "\n",
       "Rows: 10\n",
       "\n",
       "Data:\n",
       "+---------------+-------------------------------+-------------------------------+\n",
       "|      Date     |          Clean Tweet          |           word_count          |\n",
       "+---------------+-------------------------------+-------------------------------+\n",
       "| 29/11/16 5:16 | Yes it s a pity that you a... | {'and': 1, 'twitter': 1, '... |\n",
       "| 29/11/16 5:10 | Pain of downtroddens   lab... | {'labours': 1, 'masses': 1... |\n",
       "| 29/11/16 4:29 | 3Novices   Demonitisation ... | {'a': 2, 'hai': 1, 'novem'... |\n",
       "| 29/11/16 4:29 | and fabricated crowd will ... | {'and': 1, 'them': 1, 'b':... |\n",
       "| 29/11/16 4:20 | The municipal election res... | {'prime': 1, 'a': 1, 'in':... |\n",
       "| 29/11/16 4:18 | AK doesn t kno banking cha... | {'channels': 1, 'himself':... |\n",
       "| 29/11/16 4:07 | Demonitisation or adamamcy... | {'sector': 1, 'or': 1, 'pr... |\n",
       "| 29/11/16 3:54 | I Pray for    May He come ... | {'has': 2, 'good': 1, 'may... |\n",
       "| 29/11/16 3:23 | Because Modi removed all h... | {'all': 1, 'because': 1, '... |\n",
       "| 29/11/16 2:15 | barkha u tried a lot to ch... | {'a': 1, 'on': 1, 'tried':... |\n",
       "+---------------+-------------------------------+-------------------------------+\n",
       "+-------------------------------+\n",
       "|          textstoprem          |\n",
       "+-------------------------------+\n",
       "| {'pity': 1, 'tatus': 1, 's... |\n",
       "| {'labours': 1, 'pain': 1, ... |\n",
       "| {'piyush': 1, 'hai': 1, 'n... |\n",
       "| {'crowd': 1, 'netas': 1, '... |\n",
       "| {'prime': 1, 'municipal': ... |\n",
       "| {'channels': 1, 'kno': 1, ... |\n",
       "| {'sector': 1, 'preceded': ... |\n",
       "| {'good': 1, 'pray': 1, 'fl... |\n",
       "| {'badly': 1, 'statu': 1, '... |\n",
       "| {'demonitisation': 1, 'bar... |\n",
       "+-------------------------------+\n",
       "[10 rows x 4 columns]"
      ]
     },
     "execution_count": 70,
     "metadata": {},
     "output_type": "execute_result"
    }
   ],
   "source": [
    "tweets.head()"
   ]
  },
  {
   "cell_type": "code",
   "execution_count": 59,
   "metadata": {
    "collapsed": true
   },
   "outputs": [],
   "source": [
    "graphlab.canvas.set_target('ipynb')"
   ]
  },
  {
   "cell_type": "code",
   "execution_count": 60,
   "metadata": {
    "collapsed": false
   },
   "outputs": [
    {
     "data": {
      "application/javascript": [
       "$(\"head\").append($(\"<link/>\").attr({\n",
       "  rel:  \"stylesheet\",\n",
       "  type: \"text/css\",\n",
       "  href: \"//cdnjs.cloudflare.com/ajax/libs/font-awesome/4.1.0/css/font-awesome.min.css\"\n",
       "}));\n",
       "$(\"head\").append($(\"<link/>\").attr({\n",
       "  rel:  \"stylesheet\",\n",
       "  type: \"text/css\",\n",
       "  href: \"https://static.turi.com/products/graphlab-create/2.1/canvas/css/canvas.css\"\n",
       "}));\n",
       "\n",
       "            (function(){\n",
       "\n",
       "                var e = null;\n",
       "                if (typeof element == 'undefined') {\n",
       "                    var scripts = document.getElementsByTagName('script');\n",
       "                    var thisScriptTag = scripts[scripts.length-1];\n",
       "                    var parentDiv = thisScriptTag.parentNode;\n",
       "                    e = document.createElement('div');\n",
       "                    parentDiv.appendChild(e);\n",
       "                } else {\n",
       "                    e = element[0];\n",
       "                }\n",
       "\n",
       "                if (typeof requirejs !== 'undefined') {\n",
       "                    // disable load timeout; ipython_app.js is large and can take a while to load.\n",
       "                    requirejs.config({waitSeconds: 0});\n",
       "                }\n",
       "\n",
       "                require(['https://static.turi.com/products/graphlab-create/2.1/canvas/js/ipython_app.js'], function(IPythonApp){\n",
       "                    var app = new IPythonApp();\n",
       "                    app.attachView('sarray','Dictionary', {\"ipython\": true, \"sketch\": {\"keys\": {\"complete\": true, \"numeric\": false, \"num_unique\": 29976, \"num_undefined\": 0, \"progress\": 1.0, \"frequent_items\": {\"hats\": {\"frequency\": 29, \"value\": \"hats\"}, \"protest\": {\"frequency\": 183, \"value\": \"protest\"}, \"sleep\": {\"frequency\": 21, \"value\": \"sleep\"}, \"hate\": {\"frequency\": 27, \"value\": \"hate\"}, \"poorly\": {\"frequency\": 21, \"value\": \"poorly\"}, \"sation\": {\"frequency\": 34, \"value\": \"sation\"}, \"votes\": {\"frequency\": 23, \"value\": \"votes\"}, \"chinese\": {\"frequency\": 20, \"value\": \"chinese\"}, \"tweet\": {\"frequency\": 75, \"value\": \"tweet\"}, \"aur\": {\"frequency\": 71, \"value\": \"aur\"}, \"voted\": {\"frequency\": 24, \"value\": \"voted\"}, \"worth\": {\"frequency\": 79, \"value\": \"worth\"}, \"rise\": {\"frequency\": 29, \"value\": \"rise\"}, \"affect\": {\"frequency\": 50, \"value\": \"affect\"}, \"bringing\": {\"frequency\": 23, \"value\": \"bringing\"}, \"tickets\": {\"frequency\": 33, \"value\": \"tickets\"}, \"pinch\": {\"frequency\": 23, \"value\": \"pinch\"}, \"solution\": {\"frequency\": 42, \"value\": \"solution\"}, \"upa\": {\"frequency\": 32, \"value\": \"upa\"}, \"cms\": {\"frequency\": 154, \"value\": \"cms\"}, \"force\": {\"frequency\": 23, \"value\": \"force\"}, \"leaders\": {\"frequency\": 115, \"value\": \"leaders\"}, \"ece\": {\"frequency\": 37, \"value\": \"ece\"}, \"street\": {\"frequency\": 42, \"value\": \"street\"}, \"implemented\": {\"frequency\": 46, \"value\": \"implemented\"}, \"hide\": {\"frequency\": 27, \"value\": \"hide\"}, \"demonitisation\": {\"frequency\": 19514, \"value\": \"demonitisation\"}, \"bharat\": {\"frequency\": 95, \"value\": \"bharat\"}, \"told\": {\"frequency\": 49, \"value\": \"told\"}, \"crunch\": {\"frequency\": 49, \"value\": \"crunch\"}, \"tatus\": {\"frequency\": 273, \"value\": \"tatus\"}, \"men\": {\"frequency\": 46, \"value\": \"men\"}, \"reported\": {\"frequency\": 20, \"value\": \"reported\"}, \"100\": {\"frequency\": 129, \"value\": \"100\"}, \"dry\": {\"frequency\": 44, \"value\": \"dry\"}, \"kudos\": {\"frequency\": 27, \"value\": \"kudos\"}, \"employees\": {\"frequency\": 38, \"value\": \"employees\"}, \"changed\": {\"frequency\": 35, \"value\": \"changed\"}, \"completely\": {\"frequency\": 44, \"value\": \"completely\"}, \"reports\": {\"frequency\": 48, \"value\": \"reports\"}, \"credit\": {\"frequency\": 58, \"value\": \"credit\"}, \"omar\": {\"frequency\": 27, \"value\": \"omar\"}, \"punjab\": {\"frequency\": 35, \"value\": \"punjab\"}, \"campaign\": {\"frequency\": 72, \"value\": \"campaign\"}, \"explained\": {\"frequency\": 29, \"value\": \"explained\"}, \"brought\": {\"frequency\": 44, \"value\": \"brought\"}, \"patience\": {\"frequency\": 24, \"value\": \"patience\"}, \"total\": {\"frequency\": 38, \"value\": \"total\"}, \"dna\": {\"frequency\": 20, \"value\": \"dna\"}, \"spoke\": {\"frequency\": 33, \"value\": \"spoke\"}, \"army\": {\"frequency\": 20, \"value\": \"army\"}, \"hospital\": {\"frequency\": 24, \"value\": \"hospital\"}, \"indians\": {\"frequency\": 216, \"value\": \"indians\"}, \"negative\": {\"frequency\": 61, \"value\": \"negative\"}, \"call\": {\"frequency\": 75, \"value\": \"call\"}, \"raids\": {\"frequency\": 19, \"value\": \"raids\"}, \"strike\": {\"frequency\": 109, \"value\": \"strike\"}, \"supporters\": {\"frequency\": 36, \"value\": \"supporters\"}, \"successful\": {\"frequency\": 29, \"value\": \"successful\"}, \"brings\": {\"frequency\": 26, \"value\": \"brings\"}, \"haha\": {\"frequency\": 20, \"value\": \"haha\"}, \"aware\": {\"frequency\": 31, \"value\": \"aware\"}, \"disruption\": {\"frequency\": 22, \"value\": \"disruption\"}, \"excellent\": {\"frequency\": 42, \"value\": \"excellent\"}, \"90\": {\"frequency\": 46, \"value\": \"90\"}, \"hold\": {\"frequency\": 29, \"value\": \"hold\"}, \"ahmedabad\": {\"frequency\": 34, \"value\": \"ahmedabad\"}, \"hawala\": {\"frequency\": 20, \"value\": \"hawala\"}, \"kumar\": {\"frequency\": 26, \"value\": \"kumar\"}, \"ma\": {\"frequency\": 22, \"value\": \"ma\"}, \"work\": {\"frequency\": 160, \"value\": \"work\"}, \"mp\": {\"frequency\": 42, \"value\": \"mp\"}, \"mr\": {\"frequency\": 168, \"value\": \"mr\"}, \"estate\": {\"frequency\": 67, \"value\": \"estate\"}, \"give\": {\"frequency\": 153, \"value\": \"give\"}, \"household\": {\"frequency\": 23, \"value\": \"household\"}, \"organized\": {\"frequency\": 20, \"value\": \"organized\"}, \"zeenews\": {\"frequency\": 27, \"value\": \"zeenews\"}, \"currency\": {\"frequency\": 644, \"value\": \"currency\"}, \"end\": {\"frequency\": 104, \"value\": \"end\"}, \"thing\": {\"frequency\": 99, \"value\": \"thing\"}, \"hon\": {\"frequency\": 28, \"value\": \"hon\"}, \"travel\": {\"frequency\": 20, \"value\": \"travel\"}, \"newscrunch\": {\"frequency\": 19, \"value\": \"newscrunch\"}, \"damage\": {\"frequency\": 19, \"value\": \"damage\"}, \"amazing\": {\"frequency\": 22, \"value\": \"amazing\"}, \"answer\": {\"frequency\": 61, \"value\": \"answer\"}, \"ordinary\": {\"frequency\": 22, \"value\": \"ordinary\"}, \"faulty\": {\"frequency\": 25, \"value\": \"faulty\"}, \"badly\": {\"frequency\": 90, \"value\": \"badly\"}, \"secre\": {\"frequency\": 22, \"value\": \"secre\"}, \"mess\": {\"frequency\": 38, \"value\": \"mess\"}, \"earlier\": {\"frequency\": 41, \"value\": \"earlier\"}, \"coffers\": {\"frequency\": 34, \"value\": \"coffers\"}, \"demanding\": {\"frequency\": 21, \"value\": \"demanding\"}, \"lac\": {\"frequency\": 20, \"value\": \"lac\"}, \"wrong\": {\"frequency\": 93, \"value\": \"wrong\"}, \"president\": {\"frequency\": 48, \"value\": \"president\"}, \"law\": {\"frequency\": 57, \"value\": \"law\"}, \"effective\": {\"frequency\": 26, \"value\": \"effective\"}, \"headquarters\": {\"frequency\": 31, \"value\": \"headquarters\"}, \"fan\": {\"frequency\": 41, \"value\": \"fan\"}, \"order\": {\"frequency\": 39, \"value\": \"order\"}, \"executed\": {\"frequency\": 30, \"value\": \"executed\"}, \"office\": {\"frequency\": 28, \"value\": \"office\"}, \"welcomed\": {\"frequency\": 26, \"value\": \"welcomed\"}, \"wud\": {\"frequency\": 38, \"value\": \"wud\"}, \"japan\": {\"frequency\": 19, \"value\": \"japan\"}, \"nahin\": {\"frequency\": 22, \"value\": \"nahin\"}, \"personal\": {\"frequency\": 24, \"value\": \"personal\"}, \"weeks\": {\"frequency\": 37, \"value\": \"weeks\"}, \"anil\": {\"frequency\": 20, \"value\": \"anil\"}, \"affected\": {\"frequency\": 144, \"value\": \"affected\"}, \"indiafightscorruption\": {\"frequency\": 47, \"value\": \"indiafightscorrupt ...\"}, \"safe\": {\"frequency\": 23, \"value\": \"safe\"}, \"break\": {\"frequency\": 25, \"value\": \"break\"}, \"band\": {\"frequency\": 34, \"value\": \"band\"}, \"effects\": {\"frequency\": 133, \"value\": \"effects\"}, \"bank\": {\"frequency\": 578, \"value\": \"bank\"}, \"govts\": {\"frequency\": 20, \"value\": \"govts\"}, \"queues\": {\"frequency\": 131, \"value\": \"queues\"}, \"side\": {\"frequency\": 84, \"value\": \"side\"}, \"manmohan\": {\"frequency\": 136, \"value\": \"manmohan\"}, \"financial\": {\"frequency\": 81, \"value\": \"financial\"}, \"diya\": {\"frequency\": 22, \"value\": \"diya\"}, \"kejri\": {\"frequency\": 82, \"value\": \"kejri\"}, \"depositing\": {\"frequency\": 22, \"value\": \"depositing\"}, \"rt\": {\"frequency\": 230, \"value\": \"rt\"}, \"goo\": {\"frequency\": 213, \"value\": \"goo\"}, \"goi\": {\"frequency\": 30, \"value\": \"goi\"}, \"rs\": {\"frequency\": 678, \"value\": \"rs\"}, \"god\": {\"frequency\": 48, \"value\": \"god\"}, \"goa\": {\"frequency\": 26, \"value\": \"goa\"}, \"debit\": {\"frequency\": 44, \"value\": \"debit\"}, \"gov\": {\"frequency\": 34, \"value\": \"gov\"}, \"provide\": {\"frequency\": 22, \"value\": \"provide\"}, \"free\": {\"frequency\": 86, \"value\": \"free\"}, \"standard\": {\"frequency\": 40, \"value\": \"standard\"}, \"wanted\": {\"frequency\": 34, \"value\": \"wanted\"}, \"created\": {\"frequency\": 66, \"value\": \"created\"}, \"atm\": {\"frequency\": 236, \"value\": \"atm\"}, \"kashmir\": {\"frequency\": 91, \"value\": \"kashmir\"}, \"days\": {\"frequency\": 287, \"value\": \"days\"}, \"creates\": {\"frequency\": 32, \"value\": \"creates\"}, \"oppose\": {\"frequency\": 96, \"value\": \"oppose\"}, \"isn\": {\"frequency\": 63, \"value\": \"isn\"}, \"vijay\": {\"frequency\": 20, \"value\": \"vijay\"}, \"economists\": {\"frequency\": 34, \"value\": \"economists\"}, \"indiatimes\": {\"frequency\": 154, \"value\": \"indiatimes\"}, \"nhi\": {\"frequency\": 26, \"value\": \"nhi\"}, \"hearing\": {\"frequency\": 28, \"value\": \"hearing\"}, \"channels\": {\"frequency\": 40, \"value\": \"channels\"}, \"wasn\": {\"frequency\": 23, \"value\": \"wasn\"}, \"plastic\": {\"frequency\": 20, \"value\": \"plastic\"}, \"service\": {\"frequency\": 36, \"value\": \"service\"}, \"top\": {\"frequency\": 36, \"value\": \"top\"}, \"needed\": {\"frequency\": 52, \"value\": \"needed\"}, \"toh\": {\"frequency\": 37, \"value\": \"toh\"}, \"toi\": {\"frequency\": 82, \"value\": \"toi\"}, \"rates\": {\"frequency\": 33, \"value\": \"rates\"}, \"currencyexchange\": {\"frequency\": 60, \"value\": \"currencyexchange\"}, \"mamta\": {\"frequency\": 84, \"value\": \"mamta\"}, \"listen\": {\"frequency\": 31, \"value\": \"listen\"}, \"villages\": {\"frequency\": 28, \"value\": \"villages\"}, \"nahi\": {\"frequency\": 102, \"value\": \"nahi\"}, \"modiministry\": {\"frequency\": 22, \"value\": \"modiministry\"}, \"preparation\": {\"frequency\": 21, \"value\": \"preparation\"}, \"matter\": {\"frequency\": 33, \"value\": \"matter\"}, \"friend\": {\"frequency\": 22, \"value\": \"friend\"}, \"feeling\": {\"frequency\": 56, \"value\": \"feeling\"}, \"tht\": {\"frequency\": 44, \"value\": \"tht\"}, \"mind\": {\"frequency\": 70, \"value\": \"mind\"}, \"talking\": {\"frequency\": 68, \"value\": \"talking\"}, \"abpmajha\": {\"frequency\": 38, \"value\": \"abpmajha\"}, \"tells\": {\"frequency\": 24, \"value\": \"tells\"}, \"forced\": {\"frequency\": 38, \"value\": \"forced\"}, \"responsible\": {\"frequency\": 39, \"value\": \"responsible\"}, \"bengal\": {\"frequency\": 72, \"value\": \"bengal\"}, \"causing\": {\"frequency\": 22, \"value\": \"causing\"}, \"majha\": {\"frequency\": 39, \"value\": \"majha\"}, \"transactions\": {\"frequency\": 69, \"value\": \"transactions\"}, \"bsp\": {\"frequency\": 54, \"value\": \"bsp\"}, \"dares\": {\"frequency\": 21, \"value\": \"dares\"}, \"mouth\": {\"frequency\": 19, \"value\": \"mouth\"}, \"naidu\": {\"frequency\": 23, \"value\": \"naidu\"}, \"don\": {\"frequency\": 389, \"value\": \"don\"}, \"kiya\": {\"frequency\": 23, \"value\": \"kiya\"}, \"flop\": {\"frequency\": 28, \"value\": \"flop\"}, \"points\": {\"frequency\": 28, \"value\": \"points\"}, \"rupees\": {\"frequency\": 61, \"value\": \"rupees\"}, \"participate\": {\"frequency\": 28, \"value\": \"participate\"}, \"busy\": {\"frequency\": 60, \"value\": \"busy\"}, \"implementation\": {\"frequency\": 209, \"value\": \"implementation\"}, \"explain\": {\"frequency\": 40, \"value\": \"explain\"}, \"hrs\": {\"frequency\": 26, \"value\": \"hrs\"}, \"rich\": {\"frequency\": 94, \"value\": \"rich\"}, \"announce\": {\"frequency\": 24, \"value\": \"announce\"}, \"articleshow\": {\"frequency\": 92, \"value\": \"articleshow\"}, \"toll\": {\"frequency\": 54, \"value\": \"toll\"}, \"stop\": {\"frequency\": 205, \"value\": \"stop\"}, \"da\": {\"frequency\": 23, \"value\": \"da\"}, \"wedding\": {\"frequency\": 37, \"value\": \"wedding\"}, \"report\": {\"frequency\": 69, \"value\": \"report\"}, \"dr\": {\"frequency\": 106, \"value\": \"dr\"}, \"net\": {\"frequency\": 23, \"value\": \"net\"}, \"bad\": {\"frequency\": 171, \"value\": \"bad\"}, \"ban\": {\"frequency\": 170, \"value\": \"ban\"}, \"disaster\": {\"frequency\": 51, \"value\": \"disaster\"}, \"fair\": {\"frequency\": 25, \"value\": \"fair\"}, \"result\": {\"frequency\": 50, \"value\": \"result\"}, \"corrupt\": {\"frequency\": 187, \"value\": \"corrupt\"}, \"sardesairajdee\": {\"frequency\": 22, \"value\": \"sardesairajdee\"}, \"atus\": {\"frequency\": 225, \"value\": \"atus\"}, \"notebandi\": {\"frequency\": 22, \"value\": \"notebandi\"}, \"unable\": {\"frequency\": 31, \"value\": \"unable\"}, \"wb\": {\"frequency\": 35, \"value\": \"wb\"}, \"wo\": {\"frequency\": 20, \"value\": \"wo\"}, \"arun\": {\"frequency\": 40, \"value\": \"arun\"}, \"ws\": {\"frequency\": 22, \"value\": \"ws\"}, \"news\": {\"frequency\": 779, \"value\": \"news\"}, \"improve\": {\"frequency\": 34, \"value\": \"improve\"}, \"faced\": {\"frequency\": 37, \"value\": \"faced\"}, \"met\": {\"frequency\": 20, \"value\": \"met\"}, \"country\": {\"frequency\": 325, \"value\": \"country\"}, \"ill\": {\"frequency\": 65, \"value\": \"ill\"}, \"coz\": {\"frequency\": 59, \"value\": \"coz\"}, \"planned\": {\"frequency\": 81, \"value\": \"planned\"}, \"faces\": {\"frequency\": 29, \"value\": \"faces\"}, \"asked\": {\"frequency\": 50, \"value\": \"asked\"}, \"eradicate\": {\"frequency\": 22, \"value\": \"eradicate\"}, \"tough\": {\"frequency\": 21, \"value\": \"tough\"}, \"initiative\": {\"frequency\": 70, \"value\": \"initiative\"}, \"false\": {\"frequency\": 26, \"value\": \"false\"}, \"trust\": {\"frequency\": 44, \"value\": \"trust\"}, \"speak\": {\"frequency\": 94, \"value\": \"speak\"}, \"conference\": {\"frequency\": 43, \"value\": \"conference\"}, \"asks\": {\"frequency\": 38, \"value\": \"asks\"}, \"shouting\": {\"frequency\": 36, \"value\": \"shouting\"}, \"union\": {\"frequency\": 25, \"value\": \"union\"}, \"frm\": {\"frequency\": 52, \"value\": \"frm\"}, \"interest\": {\"frequency\": 64, \"value\": \"interest\"}, \"expected\": {\"frequency\": 43, \"value\": \"expected\"}, \"criticises\": {\"frequency\": 23, \"value\": \"criticises\"}, \"life\": {\"frequency\": 140, \"value\": \"life\"}, \"catch\": {\"frequency\": 20, \"value\": \"catch\"}, \"diverted\": {\"frequency\": 27, \"value\": \"diverted\"}, \"commerce\": {\"frequency\": 21, \"value\": \"commerce\"}, \"demonetization\": {\"frequency\": 60, \"value\": \"demonetization\"}, \"air\": {\"frequency\": 24, \"value\": \"air\"}, \"dept\": {\"frequency\": 22, \"value\": \"dept\"}, \"balance\": {\"frequency\": 23, \"value\": \"balance\"}, \"leaves\": {\"frequency\": 48, \"value\": \"leaves\"}, \"launched\": {\"frequency\": 36, \"value\": \"launched\"}, \"mistake\": {\"frequency\": 24, \"value\": \"mistake\"}, \"economics\": {\"frequency\": 40, \"value\": \"economics\"}, \"shame\": {\"frequency\": 95, \"value\": \"shame\"}, \"experts\": {\"frequency\": 65, \"value\": \"experts\"}, \"cong\": {\"frequency\": 51, \"value\": \"cong\"}, \"id\": {\"frequency\": 56, \"value\": \"id\"}, \"vipin\": {\"frequency\": 32, \"value\": \"vipin\"}, \"things\": {\"frequency\": 74, \"value\": \"things\"}, \"make\": {\"frequency\": 244, \"value\": \"make\"}, \"hoarders\": {\"frequency\": 113, \"value\": \"hoarders\"}, \"byebyeblackmoney\": {\"frequency\": 40, \"value\": \"byebyeblackmoney\"}, \"hand\": {\"frequency\": 49, \"value\": \"hand\"}, \"opportunity\": {\"frequency\": 36, \"value\": \"opportunity\"}, \"1978\": {\"frequency\": 42, \"value\": \"1978\"}, \"min\": {\"frequency\": 25, \"value\": \"min\"}, \"suffering\": {\"frequency\": 195, \"value\": \"suffering\"}, \"savings\": {\"frequency\": 26, \"value\": \"savings\"}, \"greatest\": {\"frequency\": 21, \"value\": \"greatest\"}, \"mother\": {\"frequency\": 24, \"value\": \"mother\"}, \"corporate\": {\"frequency\": 71, \"value\": \"corporate\"}, \"tha\": {\"frequency\": 37, \"value\": \"tha\"}, \"left\": {\"frequency\": 76, \"value\": \"left\"}, \"yeh\": {\"frequency\": 26, \"value\": \"yeh\"}, \"kejriwal\": {\"frequency\": 293, \"value\": \"kejriwal\"}, \"human\": {\"frequency\": 26, \"value\": \"human\"}, \"facts\": {\"frequency\": 27, \"value\": \"facts\"}, \"hai\": {\"frequency\": 283, \"value\": \"hai\"}, \"ease\": {\"frequency\": 34, \"value\": \"ease\"}, \"spread\": {\"frequency\": 39, \"value\": \"spread\"}, \"easy\": {\"frequency\": 29, \"value\": \"easy\"}, \"whatsapp\": {\"frequency\": 22, \"value\": \"whatsapp\"}, \"save\": {\"frequency\": 49, \"value\": \"save\"}, \"hav\": {\"frequency\": 40, \"value\": \"hav\"}, \"gave\": {\"frequency\": 23, \"value\": \"gave\"}, \"opp\": {\"frequency\": 33, \"value\": \"opp\"}, \"bandh\": {\"frequency\": 78, \"value\": \"bandh\"}, \"govt\": {\"frequency\": 847, \"value\": \"govt\"}, \"corruptioncleanup\": {\"frequency\": 25, \"value\": \"corruptioncleanup\"}, \"55\": {\"frequency\": 23, \"value\": \"55\"}, \"50\": {\"frequency\": 98, \"value\": \"50\"}, \"blackmoney\": {\"frequency\": 528, \"value\": \"blackmoney\"}, \"steps\": {\"frequency\": 49, \"value\": \"steps\"}, \"gandhi\": {\"frequency\": 87, \"value\": \"gandhi\"}, \"night\": {\"frequency\": 33, \"value\": \"night\"}, \"security\": {\"frequency\": 42, \"value\": \"security\"}, \"www\": {\"frequency\": 43, \"value\": \"www\"}, \"deal\": {\"frequency\": 44, \"value\": \"deal\"}, \"people\": {\"frequency\": 1419, \"value\": \"people\"}, \"dead\": {\"frequency\": 47, \"value\": \"dead\"}, \"election\": {\"frequency\": 80, \"value\": \"election\"}, \"dear\": {\"frequency\": 161, \"value\": \"dear\"}, \"rs1000\": {\"frequency\": 48, \"value\": \"rs1000\"}, \"currencyban\": {\"frequency\": 105, \"value\": \"currencyban\"}, \"comments\": {\"frequency\": 41, \"value\": \"comments\"}, \"pls\": {\"frequency\": 141, \"value\": \"pls\"}, \"bold\": {\"frequency\": 130, \"value\": \"bold\"}, \"plz\": {\"frequency\": 85, \"value\": \"plz\"}, \"huffingtonpost\": {\"frequency\": 20, \"value\": \"huffingtonpost\"}, \"losing\": {\"frequency\": 26, \"value\": \"losing\"}, \"post\": {\"frequency\": 213, \"value\": \"post\"}, \"liye\": {\"frequency\": 32, \"value\": \"liye\"}, \"super\": {\"frequency\": 19, \"value\": \"super\"}, \"citizens\": {\"frequency\": 107, \"value\": \"citizens\"}, \"ensure\": {\"frequency\": 34, \"value\": \"ensure\"}, \"banker\": {\"frequency\": 30, \"value\": \"banker\"}, \"efforts\": {\"frequency\": 37, \"value\": \"efforts\"}, \"maharashtra\": {\"frequency\": 24, \"value\": \"maharashtra\"}, \"whats\": {\"frequency\": 25, \"value\": \"whats\"}, \"ppl\": {\"frequency\": 359, \"value\": \"ppl\"}, \"lies\": {\"frequency\": 41, \"value\": \"lies\"}, \"crowd\": {\"frequency\": 31, \"value\": \"crowd\"}, \"support\": {\"frequency\": 696, \"value\": \"support\"}, \"fight\": {\"frequency\": 129, \"value\": \"fight\"}, \"wat\": {\"frequency\": 33, \"value\": \"wat\"}, \"war\": {\"frequency\": 74, \"value\": \"war\"}, \"happy\": {\"frequency\": 199, \"value\": \"happy\"}, \"head\": {\"frequency\": 26, \"value\": \"head\"}, \"medium\": {\"frequency\": 89, \"value\": \"medium\"}, \"form\": {\"frequency\": 30, \"value\": \"form\"}, \"offer\": {\"frequency\": 19, \"value\": \"offer\"}, \"failure\": {\"frequency\": 76, \"value\": \"failure\"}, \"hear\": {\"frequency\": 67, \"value\": \"hear\"}, \"true\": {\"frequency\": 127, \"value\": \"true\"}, \"dowry\": {\"frequency\": 26, \"value\": \"dowry\"}, \"kohli\": {\"frequency\": 23, \"value\": \"kohli\"}, \"raha\": {\"frequency\": 46, \"value\": \"raha\"}, \"proved\": {\"frequency\": 22, \"value\": \"proved\"}, \"rahe\": {\"frequency\": 33, \"value\": \"rahe\"}, \"request\": {\"frequency\": 58, \"value\": \"request\"}, \"proves\": {\"frequency\": 27, \"value\": \"proves\"}, \"janakroshdiwas\": {\"frequency\": 47, \"value\": \"janakroshdiwas\"}, \"check\": {\"frequency\": 73, \"value\": \"check\"}, \"dying\": {\"frequency\": 47, \"value\": \"dying\"}, \"na\": {\"frequency\": 50, \"value\": \"na\"}, \"ne\": {\"frequency\": 57, \"value\": \"ne\"}, \"reality\": {\"frequency\": 43, \"value\": \"reality\"}, \"tisation\": {\"frequency\": 73, \"value\": \"tisation\"}, \"role\": {\"frequency\": 22, \"value\": \"role\"}, \"digital\": {\"frequency\": 85, \"value\": \"digital\"}, \"test\": {\"frequency\": 28, \"value\": \"test\"}, \"nt\": {\"frequency\": 85, \"value\": \"nt\"}, \"roll\": {\"frequency\": 134, \"value\": \"roll\"}, \"nw\": {\"frequency\": 24, \"value\": \"nw\"}, \"picture\": {\"frequency\": 20, \"value\": \"picture\"}, \"dies\": {\"frequency\": 20, \"value\": \"dies\"}, \"felt\": {\"frequency\": 24, \"value\": \"felt\"}, \"update\": {\"frequency\": 20, \"value\": \"update\"}, \"hurt\": {\"frequency\": 66, \"value\": \"hurt\"}, \"died\": {\"frequency\": 72, \"value\": \"died\"}, \"billion\": {\"frequency\": 26, \"value\": \"billion\"}, \"55471602\": {\"frequency\": 47, \"value\": \"55471602\"}, \"faster\": {\"frequency\": 37, \"value\": \"faster\"}, \"daily\": {\"frequency\": 90, \"value\": \"daily\"}, \"time\": {\"frequency\": 408, \"value\": \"time\"}, \"push\": {\"frequency\": 24, \"value\": \"push\"}, \"focus\": {\"frequency\": 34, \"value\": \"focus\"}, \"menon\": {\"frequency\": 22, \"value\": \"menon\"}, \"suicide\": {\"frequency\": 36, \"value\": \"suicide\"}, \"0\": {\"frequency\": 33, \"value\": \"0\"}, \"finally\": {\"frequency\": 48, \"value\": \"finally\"}, \"terror\": {\"frequency\": 54, \"value\": \"terror\"}, \"suffered\": {\"frequency\": 30, \"value\": \"suffered\"}, \"wallets\": {\"frequency\": 21, \"value\": \"wallets\"}, \"capitalheight\": {\"frequency\": 19, \"value\": \"capitalheight\"}, \"join\": {\"frequency\": 91, \"value\": \"join\"}, \"trouble\": {\"frequency\": 44, \"value\": \"trouble\"}, \"din\": {\"frequency\": 52, \"value\": \"din\"}, \"gud\": {\"frequency\": 32, \"value\": \"gud\"}, \"die\": {\"frequency\": 45, \"value\": \"die\"}, \"leave\": {\"frequency\": 27, \"value\": \"leave\"}, \"team\": {\"frequency\": 33, \"value\": \"team\"}, \"guy\": {\"frequency\": 32, \"value\": \"guy\"}, \"dis\": {\"frequency\": 38, \"value\": \"dis\"}, \"revolution\": {\"frequency\": 22, \"value\": \"revolution\"}, \"masterstroke\": {\"frequency\": 30, \"value\": \"masterstroke\"}, \"cost\": {\"frequency\": 44, \"value\": \"cost\"}, \"stands\": {\"frequency\": 22, \"value\": \"stands\"}, \"heres\": {\"frequency\": 22, \"value\": \"heres\"}, \"favour\": {\"frequency\": 50, \"value\": \"favour\"}, \"debate\": {\"frequency\": 165, \"value\": \"debate\"}, \"current\": {\"frequency\": 56, \"value\": \"current\"}, \"bm\": {\"frequency\": 34, \"value\": \"bm\"}, \"reply\": {\"frequency\": 35, \"value\": \"reply\"}, \"appeal\": {\"frequency\": 20, \"value\": \"appeal\"}, \"boost\": {\"frequency\": 27, \"value\": \"boost\"}, \"modis\": {\"frequency\": 105, \"value\": \"modis\"}, \"water\": {\"frequency\": 25, \"value\": \"water\"}, \"address\": {\"frequency\": 51, \"value\": \"address\"}, \"hindustantimes\": {\"frequency\": 25, \"value\": \"hindustantimes\"}, \"change\": {\"frequency\": 233, \"value\": \"change\"}, \"wait\": {\"frequency\": 69, \"value\": \"wait\"}, \"319596\": {\"frequency\": 35, \"value\": \"319596\"}, \"dec\": {\"frequency\": 48, \"value\": \"dec\"}, \"brilliant\": {\"frequency\": 34, \"value\": \"brilliant\"}, \"earned\": {\"frequency\": 26, \"value\": \"earned\"}, \"queue\": {\"frequency\": 164, \"value\": \"queue\"}, \"suggestion\": {\"frequency\": 24, \"value\": \"suggestion\"}, \"demonisation\": {\"frequency\": 42, \"value\": \"demonisation\"}, \"love\": {\"frequency\": 45, \"value\": \"love\"}, \"extra\": {\"frequency\": 31, \"value\": \"extra\"}, \"fake\": {\"frequency\": 144, \"value\": \"fake\"}, \"wintersession\": {\"frequency\": 27, \"value\": \"wintersession\"}, \"crisis\": {\"frequency\": 71, \"value\": \"crisis\"}, \"market\": {\"frequency\": 92, \"value\": \"market\"}, \"handled\": {\"frequency\": 18, \"value\": \"handled\"}, \"working\": {\"frequency\": 101, \"value\": \"working\"}, \"prove\": {\"frequency\": 47, \"value\": \"prove\"}, \"positive\": {\"frequency\": 73, \"value\": \"positive\"}, \"angry\": {\"frequency\": 30, \"value\": \"angry\"}, \"retweeted\": {\"frequency\": 73, \"value\": \"retweeted\"}, \"live\": {\"frequency\": 107, \"value\": \"live\"}, \"manmohansingh\": {\"frequency\": 34, \"value\": \"manmohansingh\"}, \"wondering\": {\"frequency\": 23, \"value\": \"wondering\"}, \"today\": {\"frequency\": 269, \"value\": \"today\"}, \"bhavan\": {\"frequency\": 25, \"value\": \"bhavan\"}, \"share\": {\"frequency\": 77, \"value\": \"share\"}, \"cases\": {\"frequency\": 31, \"value\": \"cases\"}, \"effort\": {\"frequency\": 35, \"value\": \"effort\"}, \"car\": {\"frequency\": 25, \"value\": \"car\"}, \"wallet\": {\"frequency\": 22, \"value\": \"wallet\"}, \"printing\": {\"frequency\": 34, \"value\": \"printing\"}, \"making\": {\"frequency\": 166, \"value\": \"making\"}, \"claim\": {\"frequency\": 21, \"value\": \"claim\"}, \"months\": {\"frequency\": 54, \"value\": \"months\"}, \"trump\": {\"frequency\": 51, \"value\": \"trump\"}, \"december\": {\"frequency\": 20, \"value\": \"december\"}, \"kya\": {\"frequency\": 83, \"value\": \"kya\"}, \"confused\": {\"frequency\": 25, \"value\": \"confused\"}, \"heard\": {\"frequency\": 64, \"value\": \"heard\"}, \"stroke\": {\"frequency\": 37, \"value\": \"stroke\"}, \"allowed\": {\"frequency\": 21, \"value\": \"allowed\"}, \"winter\": {\"frequency\": 22, \"value\": \"winter\"}, \"discussion\": {\"frequency\": 31, \"value\": \"discussion\"}, \"watching\": {\"frequency\": 30, \"value\": \"watching\"}, \"mismanagement\": {\"frequency\": 26, \"value\": \"mismanagement\"}, \"1\": {\"frequency\": 511, \"value\": \"1\"}, \"till\": {\"frequency\": 143, \"value\": \"till\"}, \"sunday\": {\"frequency\": 42, \"value\": \"sunday\"}, \"speaks\": {\"frequency\": 27, \"value\": \"speaks\"}, \"economy\": {\"frequency\": 291, \"value\": \"economy\"}, \"huge\": {\"frequency\": 103, \"value\": \"huge\"}, \"date\": {\"frequency\": 27, \"value\": \"date\"}, \"maj\": {\"frequency\": 35, \"value\": \"maj\"}, \"guys\": {\"frequency\": 74, \"value\": \"guys\"}, \"man\": {\"frequency\": 392, \"value\": \"man\"}, \"remember\": {\"frequency\": 25, \"value\": \"remember\"}, \"ss\": {\"frequency\": 23, \"value\": \"ss\"}, \"sp\": {\"frequency\": 54, \"value\": \"sp\"}, \"st\": {\"frequency\": 259, \"value\": \"st\"}, \"complaining\": {\"frequency\": 30, \"value\": \"complaining\"}, \"jail\": {\"frequency\": 21, \"value\": \"jail\"}, \"deposit\": {\"frequency\": 140, \"value\": \"deposit\"}, \"sc\": {\"frequency\": 124, \"value\": \"sc\"}, \"sa\": {\"frequency\": 20, \"value\": \"sa\"}, \"se\": {\"frequency\": 152, \"value\": \"se\"}, \"words\": {\"frequency\": 43, \"value\": \"words\"}, \"years\": {\"frequency\": 69, \"value\": \"years\"}, \"accepted\": {\"frequency\": 29, \"value\": \"accepted\"}, \"police\": {\"frequency\": 32, \"value\": \"police\"}, \"interesting\": {\"frequency\": 50, \"value\": \"interesting\"}, \"farmer\": {\"frequency\": 34, \"value\": \"farmer\"}, \"tweets\": {\"frequency\": 36, \"value\": \"tweets\"}, \"main\": {\"frequency\": 21, \"value\": \"main\"}, \"petition\": {\"frequency\": 29, \"value\": \"petition\"}, \"happened\": {\"frequency\": 69, \"value\": \"happened\"}, \"unplanned\": {\"frequency\": 31, \"value\": \"unplanned\"}, \"finance\": {\"frequency\": 73, \"value\": \"finance\"}, \"views\": {\"frequency\": 80, \"value\": \"views\"}, \"rattled\": {\"frequency\": 34, \"value\": \"rattled\"}, \"nation\": {\"frequency\": 282, \"value\": \"nation\"}, \"interview\": {\"frequency\": 43, \"value\": \"interview\"}, \"half\": {\"frequency\": 30, \"value\": \"half\"}, \"nov\": {\"frequency\": 162, \"value\": \"nov\"}, \"discuss\": {\"frequency\": 29, \"value\": \"discuss\"}, \"wont\": {\"frequency\": 34, \"value\": \"wont\"}, \"term\": {\"frequency\": 118, \"value\": \"term\"}, \"didn\": {\"frequency\": 103, \"value\": \"didn\"}, \"didi\": {\"frequency\": 46, \"value\": \"didi\"}, \"namo\": {\"frequency\": 85, \"value\": \"namo\"}, \"ek\": {\"frequency\": 47, \"value\": \"ek\"}, \"year\": {\"frequency\": 68, \"value\": \"year\"}, \"happen\": {\"frequency\": 42, \"value\": \"happen\"}, \"worried\": {\"frequency\": 57, \"value\": \"worried\"}, \"living\": {\"frequency\": 34, \"value\": \"living\"}, \"blackmoneydebate\": {\"frequency\": 54, \"value\": \"blackmoneydebate\"}, \"irony\": {\"frequency\": 20, \"value\": \"irony\"}, \"increase\": {\"frequency\": 42, \"value\": \"increase\"}, \"blogspot\": {\"frequency\": 26, \"value\": \"blogspot\"}, \"correct\": {\"frequency\": 35, \"value\": \"correct\"}, \"shows\": {\"frequency\": 66, \"value\": \"shows\"}, \"org\": {\"frequency\": 30, \"value\": \"org\"}, \"card\": {\"frequency\": 90, \"value\": \"card\"}, \"care\": {\"frequency\": 50, \"value\": \"care\"}, \"advance\": {\"frequency\": 28, \"value\": \"advance\"}, \"pune\": {\"frequency\": 27, \"value\": \"pune\"}, \"couldn\": {\"frequency\": 34, \"value\": \"couldn\"}, \"transition\": {\"frequency\": 19, \"value\": \"transition\"}, \"honest\": {\"frequency\": 119, \"value\": \"honest\"}, \"turn\": {\"frequency\": 48, \"value\": \"turn\"}, \"place\": {\"frequency\": 50, \"value\": \"place\"}, \"massive\": {\"frequency\": 33, \"value\": \"massive\"}, \"noteban\": {\"frequency\": 35, \"value\": \"noteban\"}, \"firstpost\": {\"frequency\": 39, \"value\": \"firstpost\"}, \"1000\": {\"frequency\": 595, \"value\": \"1000\"}, \"a19ci\": {\"frequency\": 20, \"value\": \"a19ci\"}, \"fast\": {\"frequency\": 24, \"value\": \"fast\"}, \"vote\": {\"frequency\": 114, \"value\": \"vote\"}, \"lakhs\": {\"frequency\": 30, \"value\": \"lakhs\"}, \"open\": {\"frequency\": 74, \"value\": \"open\"}, \"tomorrow\": {\"frequency\": 60, \"value\": \"tomorrow\"}, \"millions\": {\"frequency\": 41, \"value\": \"millions\"}, \"city\": {\"frequency\": 37, \"value\": \"city\"}, \"silent\": {\"frequency\": 41, \"value\": \"silent\"}, \"caught\": {\"frequency\": 26, \"value\": \"caught\"}, \"response\": {\"frequency\": 33, \"value\": \"response\"}, \"2\": {\"frequency\": 777, \"value\": \"2\"}, \"separatists\": {\"frequency\": 49, \"value\": \"separatists\"}, \"white\": {\"frequency\": 84, \"value\": \"white\"}, \"speaking\": {\"frequency\": 44, \"value\": \"speaking\"}, \"hue\": {\"frequency\": 20, \"value\": \"hue\"}, \"hua\": {\"frequency\": 24, \"value\": \"hua\"}, \"season\": {\"frequency\": 21, \"value\": \"season\"}, \"pelting\": {\"frequency\": 24, \"value\": \"pelting\"}, \"ecoti\": {\"frequency\": 35, \"value\": \"ecoti\"}, \"appreciated\": {\"frequency\": 25, \"value\": \"appreciated\"}, \"population\": {\"frequency\": 24, \"value\": \"population\"}, \"11\": {\"frequency\": 258, \"value\": \"11\"}, \"10\": {\"frequency\": 194, \"value\": \"10\"}, \"13\": {\"frequency\": 35, \"value\": \"13\"}, \"12\": {\"frequency\": 52, \"value\": \"12\"}, \"15\": {\"frequency\": 81, \"value\": \"15\"}, \"14\": {\"frequency\": 48, \"value\": \"14\"}, \"16\": {\"frequency\": 39, \"value\": \"16\"}, \"18\": {\"frequency\": 29, \"value\": \"18\"}, \"future\": {\"frequency\": 84, \"value\": \"future\"}, \"cards\": {\"frequency\": 55, \"value\": \"cards\"}, \"sab\": {\"frequency\": 38, \"value\": \"sab\"}, \"pro\": {\"frequency\": 27, \"value\": \"pro\"}, \"turned\": {\"frequency\": 29, \"value\": \"turned\"}, \"ani\": {\"frequency\": 87, \"value\": \"ani\"}, \"sad\": {\"frequency\": 51, \"value\": \"sad\"}, \"currencynotes\": {\"frequency\": 21, \"value\": \"currencynotes\"}, \"anger\": {\"frequency\": 27, \"value\": \"anger\"}, \"note\": {\"frequency\": 346, \"value\": \"note\"}, \"online\": {\"frequency\": 62, \"value\": \"online\"}, \"modiji\": {\"frequency\": 168, \"value\": \"modiji\"}, \"channel\": {\"frequency\": 77, \"value\": \"channel\"}, \"200\": {\"frequency\": 50, \"value\": \"200\"}, \"pain\": {\"frequency\": 154, \"value\": \"pain\"}, \"normal\": {\"frequency\": 44, \"value\": \"normal\"}, \"price\": {\"frequency\": 27, \"value\": \"price\"}, \"knew\": {\"frequency\": 90, \"value\": \"knew\"}, \"paid\": {\"frequency\": 53, \"value\": \"paid\"}, \"amit\": {\"frequency\": 25, \"value\": \"amit\"}, \"remarks\": {\"frequency\": 37, \"value\": \"remarks\"}, \"hardships\": {\"frequency\": 30, \"value\": \"hardships\"}, \"proud\": {\"frequency\": 50, \"value\": \"proud\"}, \"drive\": {\"frequency\": 135, \"value\": \"drive\"}, \"paytm\": {\"frequency\": 51, \"value\": \"paytm\"}, \"senior\": {\"frequency\": 29, \"value\": \"senior\"}, \"salt\": {\"frequency\": 22, \"value\": \"salt\"}, \"shop\": {\"frequency\": 32, \"value\": \"shop\"}, \"show\": {\"frequency\": 122, \"value\": \"show\"}, \"ground\": {\"frequency\": 50, \"value\": \"ground\"}, \"state\": {\"frequency\": 91, \"value\": \"state\"}, \"crime\": {\"frequency\": 23, \"value\": \"crime\"}, \"black\": {\"frequency\": 923, \"value\": \"black\"}, \"arvind\": {\"frequency\": 68, \"value\": \"arvind\"}, \"agnst\": {\"frequency\": 23, \"value\": \"agnst\"}, \"modifightscorruption\": {\"frequency\": 80, \"value\": \"modifightscorrupti ...\"}, \"prime\": {\"frequency\": 67, \"value\": \"prime\"}, \"morning\": {\"frequency\": 33, \"value\": \"morning\"}, \"stupid\": {\"frequency\": 36, \"value\": \"stupid\"}, \"rs500rs1000banned\": {\"frequency\": 23, \"value\": \"rs500rs1000banned\"}, \"discussing\": {\"frequency\": 24, \"value\": \"discussing\"}, \"declared\": {\"frequency\": 30, \"value\": \"declared\"}, \"ur\": {\"frequency\": 252, \"value\": \"ur\"}, \"fails\": {\"frequency\": 26, \"value\": \"fails\"}, \"farmers\": {\"frequency\": 144, \"value\": \"farmers\"}, \"ways\": {\"frequency\": 43, \"value\": \"ways\"}, \"review\": {\"frequency\": 26, \"value\": \"review\"}, \"3\": {\"frequency\": 227, \"value\": \"3\"}, \"affecting\": {\"frequency\": 21, \"value\": \"affecting\"}, \"notice\": {\"frequency\": 39, \"value\": \"notice\"}, \"rumours\": {\"frequency\": 28, \"value\": \"rumours\"}, \"tus\": {\"frequency\": 238, \"value\": \"tus\"}, \"blame\": {\"frequency\": 49, \"value\": \"blame\"}, \"jo\": {\"frequency\": 35, \"value\": \"jo\"}, \"ji\": {\"frequency\": 308, \"value\": \"ji\"}, \"article\": {\"frequency\": 206, \"value\": \"article\"}, \"cities\": {\"frequency\": 35, \"value\": \"cities\"}, \"reaction\": {\"frequency\": 40, \"value\": \"reaction\"}, \"trader\": {\"frequency\": 20, \"value\": \"trader\"}, \"railway\": {\"frequency\": 20, \"value\": \"railway\"}, \"pakistan\": {\"frequency\": 59, \"value\": \"pakistan\"}, \"baat\": {\"frequency\": 20, \"value\": \"baat\"}, \"canards\": {\"frequency\": 35, \"value\": \"canards\"}, \"period\": {\"frequency\": 42, \"value\": \"period\"}, \"60\": {\"frequency\": 26, \"value\": \"60\"}, \"pol\": {\"frequency\": 26, \"value\": \"pol\"}, \"anti\": {\"frequency\": 170, \"value\": \"anti\"}, \"poll\": {\"frequency\": 190, \"value\": \"poll\"}, \"west\": {\"frequency\": 40, \"value\": \"west\"}, \"informed\": {\"frequency\": 35, \"value\": \"informed\"}, \"deposited\": {\"frequency\": 69, \"value\": \"deposited\"}, \"500\": {\"frequency\": 714, \"value\": \"500\"}, \"crores\": {\"frequency\": 92, \"value\": \"crores\"}, \"aadmi\": {\"frequency\": 40, \"value\": \"aadmi\"}, \"wake\": {\"frequency\": 40, \"value\": \"wake\"}, \"minister\": {\"frequency\": 121, \"value\": \"minister\"}, \"thehindu\": {\"frequency\": 36, \"value\": \"thehindu\"}, \"tamil\": {\"frequency\": 33, \"value\": \"tamil\"}, \"hidden\": {\"frequency\": 24, \"value\": \"hidden\"}, \"case\": {\"frequency\": 46, \"value\": \"case\"}, \"polls\": {\"frequency\": 87, \"value\": \"polls\"}, \"cash\": {\"frequency\": 614, \"value\": \"cash\"}, \"situation\": {\"frequency\": 94, \"value\": \"situation\"}, \"shops\": {\"frequency\": 22, \"value\": \"shops\"}, \"arvindkejriwal\": {\"frequency\": 92, \"value\": \"arvindkejriwal\"}, \"telangana\": {\"frequency\": 27, \"value\": \"telangana\"}, \"middle\": {\"frequency\": 63, \"value\": \"middle\"}, \"sudden\": {\"frequency\": 34, \"value\": \"sudden\"}, \"motivated\": {\"frequency\": 62, \"value\": \"motivated\"}, \"property\": {\"frequency\": 34, \"value\": \"property\"}, \"everyday\": {\"frequency\": 26, \"value\": \"everyday\"}, \"worry\": {\"frequency\": 41, \"value\": \"worry\"}, \"par\": {\"frequency\": 40, \"value\": \"par\"}, \"pay\": {\"frequency\": 94, \"value\": \"pay\"}, \"ya\": {\"frequency\": 21, \"value\": \"ya\"}, \"html\": {\"frequency\": 321, \"value\": \"html\"}, \"speech\": {\"frequency\": 62, \"value\": \"speech\"}, \"pak\": {\"frequency\": 29, \"value\": \"pak\"}, \"status\": {\"frequency\": 944, \"value\": \"status\"}, \"running\": {\"frequency\": 53, \"value\": \"running\"}, \"changing\": {\"frequency\": 54, \"value\": \"changing\"}, \"totally\": {\"frequency\": 43, \"value\": \"totally\"}, \"holders\": {\"frequency\": 67, \"value\": \"holders\"}, \"rupee\": {\"frequency\": 106, \"value\": \"rupee\"}, \"relief\": {\"frequency\": 40, \"value\": \"relief\"}, \"shameful\": {\"frequency\": 22, \"value\": \"shameful\"}, \"gdp\": {\"frequency\": 43, \"value\": \"gdp\"}, \"money\": {\"frequency\": 1419, \"value\": \"money\"}, \"rest\": {\"frequency\": 52, \"value\": \"rest\"}, \"blow\": {\"frequency\": 20, \"value\": \"blow\"}, \"announcement\": {\"frequency\": 60, \"value\": \"announcement\"}, \"death\": {\"frequency\": 164, \"value\": \"death\"}, \"thinking\": {\"frequency\": 33, \"value\": \"thinking\"}, \"kerala\": {\"frequency\": 48, \"value\": \"kerala\"}, \"lets\": {\"frequency\": 28, \"value\": \"lets\"}, \"4\": {\"frequency\": 299, \"value\": \"4\"}, \"hind\": {\"frequency\": 25, \"value\": \"hind\"}, \"real\": {\"frequency\": 206, \"value\": \"real\"}, \"rules\": {\"frequency\": 25, \"value\": \"rules\"}, \"delhi\": {\"frequency\": 237, \"value\": \"delhi\"}, \"early\": {\"frequency\": 24, \"value\": \"early\"}, \"inflation\": {\"frequency\": 25, \"value\": \"inflation\"}, \"secrecy\": {\"frequency\": 30, \"value\": \"secrecy\"}, \"world\": {\"frequency\": 134, \"value\": \"world\"}, \"execution\": {\"frequency\": 86, \"value\": \"execution\"}, \"psu\": {\"frequency\": 58, \"value\": \"psu\"}, \"legalised\": {\"frequency\": 25, \"value\": \"legalised\"}, \"facing\": {\"frequency\": 67, \"value\": \"facing\"}, \"benefit\": {\"frequency\": 73, \"value\": \"benefit\"}, \"reduced\": {\"frequency\": 28, \"value\": \"reduced\"}, \"ramdev\": {\"frequency\": 23, \"value\": \"ramdev\"}, \"exposed\": {\"frequency\": 59, \"value\": \"exposed\"}, \"cr\": {\"frequency\": 79, \"value\": \"cr\"}, \"aiadmk\": {\"frequency\": 69, \"value\": \"aiadmk\"}, \"mood\": {\"frequency\": 23, \"value\": \"mood\"}, \"legal\": {\"frequency\": 40, \"value\": \"legal\"}, \"virat\": {\"frequency\": 21, \"value\": \"virat\"}, \"power\": {\"frequency\": 64, \"value\": \"power\"}, \"helping\": {\"frequency\": 37, \"value\": \"helping\"}, \"stone\": {\"frequency\": 43, \"value\": \"stone\"}, \"central\": {\"frequency\": 56, \"value\": \"central\"}, \"srk\": {\"frequency\": 38, \"value\": \"srk\"}, \"industry\": {\"frequency\": 56, \"value\": \"industry\"}, \"violence\": {\"frequency\": 20, \"value\": \"violence\"}, \"stand\": {\"frequency\": 159, \"value\": \"stand\"}, \"act\": {\"frequency\": 72, \"value\": \"act\"}, \"ow\": {\"frequency\": 73, \"value\": \"ow\"}, \"road\": {\"frequency\": 59, \"value\": \"road\"}, \"protests\": {\"frequency\": 30, \"value\": \"protests\"}, \"spreading\": {\"frequency\": 78, \"value\": \"spreading\"}, \"accounts\": {\"frequency\": 70, \"value\": \"accounts\"}, \"bjp\": {\"frequency\": 653, \"value\": \"bjp\"}, \"log\": {\"frequency\": 29, \"value\": \"log\"}, \"lok\": {\"frequency\": 30, \"value\": \"lok\"}, \"lol\": {\"frequency\": 52, \"value\": \"lol\"}, \"start\": {\"frequency\": 73, \"value\": \"start\"}, \"low\": {\"frequency\": 38, \"value\": \"low\"}, \"lot\": {\"frequency\": 101, \"value\": \"lot\"}, \"complete\": {\"frequency\": 31, \"value\": \"complete\"}, \"youthcongressprotest\": {\"frequency\": 39, \"value\": \"youthcongressprote ...\"}, \"tamilnadu\": {\"frequency\": 94, \"value\": \"tamilnadu\"}, \"buying\": {\"frequency\": 24, \"value\": \"buying\"}, \"happening\": {\"frequency\": 38, \"value\": \"happening\"}, \"pull\": {\"frequency\": 21, \"value\": \"pull\"}, \"rush\": {\"frequency\": 25, \"value\": \"rush\"}, \"fraud\": {\"frequency\": 23, \"value\": \"fraud\"}, \"circulation\": {\"frequency\": 38, \"value\": \"circulation\"}, \"dirty\": {\"frequency\": 20, \"value\": \"dirty\"}, \"chidambaram\": {\"frequency\": 20, \"value\": \"chidambaram\"}, \"politically\": {\"frequency\": 67, \"value\": \"politically\"}, \"builders\": {\"frequency\": 31, \"value\": \"builders\"}, \"agree\": {\"frequency\": 62, \"value\": \"agree\"}, \"aa\": {\"frequency\": 25, \"value\": \"aa\"}, \"ab\": {\"frequency\": 51, \"value\": \"ab\"}, \"leaked\": {\"frequency\": 33, \"value\": \"leaked\"}, \"ad\": {\"frequency\": 21, \"value\": \"ad\"}, \"youtube\": {\"frequency\": 112, \"value\": \"youtube\"}, \"ak\": {\"frequency\": 49, \"value\": \"ak\"}, \"sales\": {\"frequency\": 32, \"value\": \"sales\"}, \"general\": {\"frequency\": 31, \"value\": \"general\"}, \"kuch\": {\"frequency\": 45, \"value\": \"kuch\"}, \"politics\": {\"frequency\": 202, \"value\": \"politics\"}, \"hospitals\": {\"frequency\": 30, \"value\": \"hospitals\"}, \"film\": {\"frequency\": 45, \"value\": \"film\"}, \"sufferings\": {\"frequency\": 49, \"value\": \"sufferings\"}, \"drivers\": {\"frequency\": 24, \"value\": \"drivers\"}, \"field\": {\"frequency\": 24, \"value\": \"field\"}, \"valid\": {\"frequency\": 21, \"value\": \"valid\"}, \"5\": {\"frequency\": 204, \"value\": \"5\"}, \"pappu\": {\"frequency\": 32, \"value\": \"pappu\"}, \"poor\": {\"frequency\": 506, \"value\": \"poor\"}, \"congress\": {\"frequency\": 255, \"value\": \"congress\"}, \"important\": {\"frequency\": 34, \"value\": \"important\"}, \"dlvr\": {\"frequency\": 238, \"value\": \"dlvr\"}, \"calls\": {\"frequency\": 62, \"value\": \"calls\"}, \"bhakt\": {\"frequency\": 34, \"value\": \"bhakt\"}, \"forget\": {\"frequency\": 30, \"value\": \"forget\"}, \"pti\": {\"frequency\": 30, \"value\": \"pti\"}, \"caused\": {\"frequency\": 68, \"value\": \"caused\"}, \"lack\": {\"frequency\": 36, \"value\": \"lack\"}, \"month\": {\"frequency\": 33, \"value\": \"month\"}, \"surgical\": {\"frequency\": 89, \"value\": \"surgical\"}, \"cooperative\": {\"frequency\": 24, \"value\": \"cooperative\"}, \"follow\": {\"frequency\": 25, \"value\": \"follow\"}, \"defaulters\": {\"frequency\": 25, \"value\": \"defaulters\"}, \"tv\": {\"frequency\": 81, \"value\": \"tv\"}, \"tw\": {\"frequency\": 26, \"value\": \"tw\"}, \"tt\": {\"frequency\": 126, \"value\": \"tt\"}, \"riots\": {\"frequency\": 39, \"value\": \"riots\"}, \"paying\": {\"frequency\": 26, \"value\": \"paying\"}, \"worse\": {\"frequency\": 25, \"value\": \"worse\"}, \"song\": {\"frequency\": 28, \"value\": \"song\"}, \"worst\": {\"frequency\": 76, \"value\": \"worst\"}, \"mps\": {\"frequency\": 29, \"value\": \"mps\"}, \"decide\": {\"frequency\": 24, \"value\": \"decide\"}, \"fall\": {\"frequency\": 39, \"value\": \"fall\"}, \"difference\": {\"frequency\": 27, \"value\": \"difference\"}, \"large\": {\"frequency\": 56, \"value\": \"large\"}, \"small\": {\"frequency\": 164, \"value\": \"small\"}, \"instagram\": {\"frequency\": 48, \"value\": \"instagram\"}, \"tea\": {\"frequency\": 20, \"value\": \"tea\"}, \"streets\": {\"frequency\": 22, \"value\": \"streets\"}, \"past\": {\"frequency\": 19, \"value\": \"past\"}, \"rate\": {\"frequency\": 37, \"value\": \"rate\"}, \"pass\": {\"frequency\": 26, \"value\": \"pass\"}, \"stood\": {\"frequency\": 22, \"value\": \"stood\"}, \"abp\": {\"frequency\": 42, \"value\": \"abp\"}, \"abt\": {\"frequency\": 146, \"value\": \"abt\"}, \"mamatabanerjee\": {\"frequency\": 22, \"value\": \"mamatabanerjee\"}, \"currencycrisis\": {\"frequency\": 23, \"value\": \"currencycrisis\"}, \"public\": {\"frequency\": 315, \"value\": \"public\"}, \"movement\": {\"frequency\": 35, \"value\": \"movement\"}, \"hasn\": {\"frequency\": 25, \"value\": \"hasn\"}, \"full\": {\"frequency\": 81, \"value\": \"full\"}, \"loose\": {\"frequency\": 27, \"value\": \"loose\"}, \"hours\": {\"frequency\": 54, \"value\": \"hours\"}, \"shouldn\": {\"frequency\": 25, \"value\": \"shouldn\"}, \"november\": {\"frequency\": 77, \"value\": \"november\"}, \"strong\": {\"frequency\": 32, \"value\": \"strong\"}, \"ahead\": {\"frequency\": 80, \"value\": \"ahead\"}, \"losses\": {\"frequency\": 22, \"value\": \"losses\"}, \"experience\": {\"frequency\": 21, \"value\": \"experience\"}, \"prior\": {\"frequency\": 29, \"value\": \"prior\"}, \"amount\": {\"frequency\": 47, \"value\": \"amount\"}, \"social\": {\"frequency\": 51, \"value\": \"social\"}, \"action\": {\"frequency\": 120, \"value\": \"action\"}, \"hoga\": {\"frequency\": 23, \"value\": \"hoga\"}, \"family\": {\"frequency\": 70, \"value\": \"family\"}, \"suddenly\": {\"frequency\": 35, \"value\": \"suddenly\"}, \"intoday\": {\"frequency\": 21, \"value\": \"intoday\"}, \"rises\": {\"frequency\": 54, \"value\": \"rises\"}, \"khan\": {\"frequency\": 104, \"value\": \"khan\"}, \"takes\": {\"frequency\": 53, \"value\": \"takes\"}, \"governance\": {\"frequency\": 28, \"value\": \"governance\"}, \"6\": {\"frequency\": 98, \"value\": \"6\"}, \"markets\": {\"frequency\": 45, \"value\": \"markets\"}, \"brisk\": {\"frequency\": 21, \"value\": \"brisk\"}, \"rajya\": {\"frequency\": 80, \"value\": \"rajya\"}, \"vp\": {\"frequency\": 20, \"value\": \"vp\"}, \"hour\": {\"frequency\": 29, \"value\": \"hour\"}, \"remain\": {\"frequency\": 25, \"value\": \"remain\"}, \"dem\": {\"frequency\": 47, \"value\": \"dem\"}, \"caveat\": {\"frequency\": 42, \"value\": \"caveat\"}, \"journos\": {\"frequency\": 23, \"value\": \"journos\"}, \"history\": {\"frequency\": 48, \"value\": \"history\"}, \"scam\": {\"frequency\": 170, \"value\": \"scam\"}, \"aftr\": {\"frequency\": 31, \"value\": \"aftr\"}, \"suggestions\": {\"frequency\": 20, \"value\": \"suggestions\"}, \"accept\": {\"frequency\": 76, \"value\": \"accept\"}, \"states\": {\"frequency\": 39, \"value\": \"states\"}, \"sense\": {\"frequency\": 40, \"value\": \"sense\"}, \"information\": {\"frequency\": 34, \"value\": \"information\"}, \"court\": {\"frequency\": 83, \"value\": \"court\"}, \"breaking\": {\"frequency\": 42, \"value\": \"breaking\"}, \"upto\": {\"frequency\": 32, \"value\": \"upto\"}, \"fr\": {\"frequency\": 62, \"value\": \"fr\"}, \"arnabonblackmoney\": {\"frequency\": 67, \"value\": \"arnabonblackmoney\"}, \"fb\": {\"frequency\": 704, \"value\": \"fb\"}, \"coming\": {\"frequency\": 97, \"value\": \"coming\"}, \"fm\": {\"frequency\": 85, \"value\": \"fm\"}, \"refuse\": {\"frequency\": 21, \"value\": \"refuse\"}, \"short\": {\"frequency\": 63, \"value\": \"short\"}, \"tweeting\": {\"frequency\": 23, \"value\": \"tweeting\"}, \"blunder\": {\"frequency\": 36, \"value\": \"blunder\"}, \"coal\": {\"frequency\": 22, \"value\": \"coal\"}, \"media\": {\"frequency\": 262, \"value\": \"media\"}, \"banks\": {\"frequency\": 529, \"value\": \"banks\"}, \"iamwithmodi\": {\"frequency\": 110, \"value\": \"iamwithmodi\"}, \"playing\": {\"frequency\": 43, \"value\": \"playing\"}, \"cnnnews18\": {\"frequency\": 23, \"value\": \"cnnnews18\"}, \"trade\": {\"frequency\": 34, \"value\": \"trade\"}, \"paper\": {\"frequency\": 46, \"value\": \"paper\"}, \"hell\": {\"frequency\": 39, \"value\": \"hell\"}, \"suffer\": {\"frequency\": 59, \"value\": \"suffer\"}, \"24\": {\"frequency\": 29, \"value\": \"24\"}, \"25\": {\"frequency\": 49, \"value\": \"25\"}, \"20\": {\"frequency\": 56, \"value\": \"20\"}, \"mamata\": {\"frequency\": 182, \"value\": \"mamata\"}, \"28\": {\"frequency\": 45, \"value\": \"28\"}, \"late\": {\"frequency\": 24, \"value\": \"late\"}, \"fool\": {\"frequency\": 28, \"value\": \"fool\"}, \"raghuram\": {\"frequency\": 33, \"value\": \"raghuram\"}, \"hurting\": {\"frequency\": 20, \"value\": \"hurting\"}, \"good\": {\"frequency\": 565, \"value\": \"good\"}, \"return\": {\"frequency\": 31, \"value\": \"return\"}, \"food\": {\"frequency\": 44, \"value\": \"food\"}, \"ye\": {\"frequency\": 49, \"value\": \"ye\"}, \"yr\": {\"frequency\": 28, \"value\": \"yr\"}, \"bollywood\": {\"frequency\": 46, \"value\": \"bollywood\"}, \"bigger\": {\"frequency\": 37, \"value\": \"bigger\"}, \"ift\": {\"frequency\": 127, \"value\": \"ift\"}, \"hails\": {\"frequency\": 38, \"value\": \"hails\"}, \"fully\": {\"frequency\": 48, \"value\": \"fully\"}, \"level\": {\"frequency\": 61, \"value\": \"level\"}, \"2g\": {\"frequency\": 35, \"value\": \"2g\"}, \"stopped\": {\"frequency\": 59, \"value\": \"stopped\"}, \"economictimes\": {\"frequency\": 86, \"value\": \"economictimes\"}, \"found\": {\"frequency\": 52, \"value\": \"found\"}, \"2k\": {\"frequency\": 44, \"value\": \"2k\"}, \"week\": {\"frequency\": 68, \"value\": \"week\"}, \"mental\": {\"frequency\": 26, \"value\": \"mental\"}, \"house\": {\"frequency\": 47, \"value\": \"house\"}, \"hard\": {\"frequency\": 118, \"value\": \"hard\"}, \"reduce\": {\"frequency\": 39, \"value\": \"reduce\"}, \"idea\": {\"frequency\": 119, \"value\": \"idea\"}, \"expect\": {\"frequency\": 41, \"value\": \"expect\"}, \"organised\": {\"frequency\": 58, \"value\": \"organised\"}, \"anarchy\": {\"frequency\": 25, \"value\": \"anarchy\"}, \"funding\": {\"frequency\": 43, \"value\": \"funding\"}, \"ashuindiaaspir\": {\"frequency\": 25, \"value\": \"ashuindiaaspir\"}, \"legallyindia\": {\"frequency\": 24, \"value\": \"legallyindia\"}, \"health\": {\"frequency\": 23, \"value\": \"health\"}, \"7\": {\"frequency\": 99, \"value\": \"7\"}, \"issue\": {\"frequency\": 227, \"value\": \"issue\"}, \"bihar\": {\"frequency\": 45, \"value\": \"bihar\"}, \"salute\": {\"frequency\": 42, \"value\": \"salute\"}, \"reporting\": {\"frequency\": 36, \"value\": \"reporting\"}, \"pathetic\": {\"frequency\": 26, \"value\": \"pathetic\"}, \"guess\": {\"frequency\": 30, \"value\": \"guess\"}, \"mms\": {\"frequency\": 70, \"value\": \"mms\"}, \"atms\": {\"frequency\": 200, \"value\": \"atms\"}, \"reason\": {\"frequency\": 126, \"value\": \"reason\"}, \"members\": {\"frequency\": 20, \"value\": \"members\"}, \"put\": {\"frequency\": 109, \"value\": \"put\"}, \"sbi\": {\"frequency\": 67, \"value\": \"sbi\"}, \"revolutionary\": {\"frequency\": 34, \"value\": \"revolutionary\"}, \"benefits\": {\"frequency\": 98, \"value\": \"benefits\"}, \"businessmen\": {\"frequency\": 51, \"value\": \"businessmen\"}, \"oppn\": {\"frequency\": 44, \"value\": \"oppn\"}, \"feed\": {\"frequency\": 25, \"value\": \"feed\"}, \"major\": {\"frequency\": 51, \"value\": \"major\"}, \"dont\": {\"frequency\": 112, \"value\": \"dont\"}, \"feel\": {\"frequency\": 90, \"value\": \"feel\"}, \"bhai\": {\"frequency\": 43, \"value\": \"bhai\"}, \"number\": {\"frequency\": 23, \"value\": \"number\"}, \"brave\": {\"frequency\": 22, \"value\": \"brave\"}, \"koi\": {\"frequency\": 38, \"value\": \"koi\"}, \"story\": {\"frequency\": 135, \"value\": \"story\"}, \"leading\": {\"frequency\": 32, \"value\": \"leading\"}, \"statement\": {\"frequency\": 31, \"value\": \"statement\"}, \"master\": {\"frequency\": 25, \"value\": \"master\"}, \"scheme\": {\"frequency\": 159, \"value\": \"scheme\"}, \"option\": {\"frequency\": 21, \"value\": \"option\"}, \"part\": {\"frequency\": 131, \"value\": \"part\"}, \"rediff\": {\"frequency\": 21, \"value\": \"rediff\"}, \"doctors\": {\"frequency\": 23, \"value\": \"doctors\"}, \"shld\": {\"frequency\": 28, \"value\": \"shld\"}, \"kind\": {\"frequency\": 24, \"value\": \"kind\"}, \"kindly\": {\"frequency\": 32, \"value\": \"kindly\"}, \"aam\": {\"frequency\": 66, \"value\": \"aam\"}, \"youtu\": {\"frequency\": 232, \"value\": \"youtu\"}, \"aaj\": {\"frequency\": 37, \"value\": \"aaj\"}, \"marriage\": {\"frequency\": 27, \"value\": \"marriage\"}, \"aap\": {\"frequency\": 193, \"value\": \"aap\"}, \"feku\": {\"frequency\": 76, \"value\": \"feku\"}, \"declare\": {\"frequency\": 29, \"value\": \"declare\"}, \"bhi\": {\"frequency\": 71, \"value\": \"bhi\"}, \"majority\": {\"frequency\": 38, \"value\": \"majority\"}, \"useless\": {\"frequency\": 20, \"value\": \"useless\"}, \"finding\": {\"frequency\": 23, \"value\": \"finding\"}, \"play\": {\"frequency\": 23, \"value\": \"play\"}, \"added\": {\"frequency\": 33, \"value\": \"added\"}, \"measures\": {\"frequency\": 59, \"value\": \"measures\"}, \"reach\": {\"frequency\": 25, \"value\": \"reach\"}, \"kar\": {\"frequency\": 51, \"value\": \"kar\"}, \"plan\": {\"frequency\": 101, \"value\": \"plan\"}, \"70\": {\"frequency\": 52, \"value\": \"70\"}, \"accepting\": {\"frequency\": 44, \"value\": \"accepting\"}, \"79\": {\"frequency\": 22, \"value\": \"79\"}, \"ka\": {\"frequency\": 149, \"value\": \"ka\"}, \"ke\": {\"frequency\": 158, \"value\": \"ke\"}, \"mobile\": {\"frequency\": 48, \"value\": \"mobile\"}, \"clear\": {\"frequency\": 73, \"value\": \"clear\"}, \"ko\": {\"frequency\": 112, \"value\": \"ko\"}, \"clean\": {\"frequency\": 51, \"value\": \"clean\"}, \"latest\": {\"frequency\": 36, \"value\": \"latest\"}, \"sector\": {\"frequency\": 72, \"value\": \"sector\"}, \"mamataofficial\": {\"frequency\": 21, \"value\": \"mamataofficial\"}, \"gold\": {\"frequency\": 60, \"value\": \"gold\"}, \"session\": {\"frequency\": 35, \"value\": \"session\"}, \"businesses\": {\"frequency\": 27, \"value\": \"businesses\"}, \"fine\": {\"frequency\": 21, \"value\": \"fine\"}, \"find\": {\"frequency\": 103, \"value\": \"find\"}, \"impact\": {\"frequency\": 192, \"value\": \"impact\"}, \"unhappy\": {\"frequency\": 21, \"value\": \"unhappy\"}, \"penalty\": {\"frequency\": 21, \"value\": \"penalty\"}, \"failed\": {\"frequency\": 70, \"value\": \"failed\"}, \"kejriwals\": {\"frequency\": 27, \"value\": \"kejriwals\"}, \"8\": {\"frequency\": 148, \"value\": \"8\"}, \"hit\": {\"frequency\": 205, \"value\": \"hit\"}, \"gains\": {\"frequency\": 27, \"value\": \"gains\"}, \"mein\": {\"frequency\": 63, \"value\": \"mein\"}, \"banned\": {\"frequency\": 22, \"value\": \"banned\"}, \"express\": {\"frequency\": 52, \"value\": \"express\"}, \"feels\": {\"frequency\": 25, \"value\": \"feels\"}, \"courage\": {\"frequency\": 21, \"value\": \"courage\"}, \"sta\": {\"frequency\": 238, \"value\": \"sta\"}, \"opindia\": {\"frequency\": 41, \"value\": \"opindia\"}, \"cry\": {\"frequency\": 43, \"value\": \"cry\"}, \"banking\": {\"frequency\": 108, \"value\": \"banking\"}, \"common\": {\"frequency\": 414, \"value\": \"common\"}, \"withdrawal\": {\"frequency\": 60, \"value\": \"withdrawal\"}, \"pmmodi\": {\"frequency\": 23, \"value\": \"pmmodi\"}, \"set\": {\"frequency\": 69, \"value\": \"set\"}, \"patriotism\": {\"frequency\": 19, \"value\": \"patriotism\"}, \"supporting\": {\"frequency\": 201, \"value\": \"supporting\"}, \"sex\": {\"frequency\": 23, \"value\": \"sex\"}, \"lnkd\": {\"frequency\": 20, \"value\": \"lnkd\"}, \"expert\": {\"frequency\": 29, \"value\": \"expert\"}, \"movie\": {\"frequency\": 24, \"value\": \"movie\"}, \"won\": {\"frequency\": 93, \"value\": \"won\"}, \"demoni\": {\"frequency\": 18, \"value\": \"demoni\"}, \"demone\": {\"frequency\": 57, \"value\": \"demone\"}, \"corruption\": {\"frequency\": 302, \"value\": \"corruption\"}, \"creating\": {\"frequency\": 59, \"value\": \"creating\"}, \"attention\": {\"frequency\": 35, \"value\": \"attention\"}, \"denomination\": {\"frequency\": 51, \"value\": \"denomination\"}, \"selectively\": {\"frequency\": 17, \"value\": \"selectively\"}, \"opposition\": {\"frequency\": 512, \"value\": \"opposition\"}, \"foreign\": {\"frequency\": 36, \"value\": \"foreign\"}, \"jaitley\": {\"frequency\": 62, \"value\": \"jaitley\"}, \"scams\": {\"frequency\": 42, \"value\": \"scams\"}, \"cowardmodi\": {\"frequency\": 24, \"value\": \"cowardmodi\"}, \"indiatoday\": {\"frequency\": 61, \"value\": \"indiatoday\"}, \"supply\": {\"frequency\": 32, \"value\": \"supply\"}, \"simple\": {\"frequency\": 35, \"value\": \"simple\"}, \"loan\": {\"frequency\": 26, \"value\": \"loan\"}, \"blog\": {\"frequency\": 52, \"value\": \"blog\"}, \"raise\": {\"frequency\": 21, \"value\": \"raise\"}, \"create\": {\"frequency\": 66, \"value\": \"create\"}, \"political\": {\"frequency\": 224, \"value\": \"political\"}, \"due\": {\"frequency\": 582, \"value\": \"due\"}, \"secret\": {\"frequency\": 73, \"value\": \"secret\"}, \"pe\": {\"frequency\": 32, \"value\": \"pe\"}, \"demonetisation\": {\"frequency\": 393, \"value\": \"demonetisation\"}, \"meeting\": {\"frequency\": 21, \"value\": \"meeting\"}, \"empty\": {\"frequency\": 28, \"value\": \"empty\"}, \"pm\": {\"frequency\": 974, \"value\": \"pm\"}, \"congis\": {\"frequency\": 20, \"value\": \"congis\"}, \"fire\": {\"frequency\": 24, \"value\": \"fire\"}, \"great\": {\"frequency\": 241, \"value\": \"great\"}, \"fund\": {\"frequency\": 34, \"value\": \"fund\"}, \"lives\": {\"frequency\": 54, \"value\": \"lives\"}, \"demand\": {\"frequency\": 76, \"value\": \"demand\"}, \"prices\": {\"frequency\": 36, \"value\": \"prices\"}, \"politician\": {\"frequency\": 34, \"value\": \"politician\"}, \"iyc\": {\"frequency\": 39, \"value\": \"iyc\"}, \"bill\": {\"frequency\": 31, \"value\": \"bill\"}, \"elections\": {\"frequency\": 105, \"value\": \"elections\"}, \"governor\": {\"frequency\": 28, \"value\": \"governor\"}, \"denominations\": {\"frequency\": 24, \"value\": \"denominations\"}, \"fun\": {\"frequency\": 20, \"value\": \"fun\"}, \"loot\": {\"frequency\": 83, \"value\": \"loot\"}, \"larger\": {\"frequency\": 24, \"value\": \"larger\"}, \"sabha\": {\"frequency\": 107, \"value\": \"sabha\"}, \"demon\": {\"frequency\": 43, \"value\": \"demon\"}, \"ready\": {\"frequency\": 74, \"value\": \"ready\"}, \"payers\": {\"frequency\": 22, \"value\": \"payers\"}, \"funny\": {\"frequency\": 32, \"value\": \"funny\"}, \"read\": {\"frequency\": 192, \"value\": \"read\"}, \"peoples\": {\"frequency\": 20, \"value\": \"peoples\"}, \"9\": {\"frequency\": 61, \"value\": \"9\"}, \"shah\": {\"frequency\": 113, \"value\": \"shah\"}, \"higher\": {\"frequency\": 47, \"value\": \"higher\"}, \"development\": {\"frequency\": 26, \"value\": \"development\"}, \"currencies\": {\"frequency\": 42, \"value\": \"currencies\"}, \"temporary\": {\"frequency\": 52, \"value\": \"temporary\"}, \"praising\": {\"frequency\": 36, \"value\": \"praising\"}, \"yesterday\": {\"frequency\": 38, \"value\": \"yesterday\"}, \"moment\": {\"frequency\": 22, \"value\": \"moment\"}, \"000\": {\"frequency\": 105, \"value\": \"000\"}, \"purpose\": {\"frequency\": 37, \"value\": \"purpose\"}, \"thenewsminute\": {\"frequency\": 29, \"value\": \"thenewsminute\"}, \"recent\": {\"frequency\": 25, \"value\": \"recent\"}, \"lower\": {\"frequency\": 27, \"value\": \"lower\"}, \"gst\": {\"frequency\": 41, \"value\": \"gst\"}, \"analysis\": {\"frequency\": 25, \"value\": \"analysis\"}, \"person\": {\"frequency\": 93, \"value\": \"person\"}, \"withdraw\": {\"frequency\": 67, \"value\": \"withdraw\"}, \"swiss\": {\"frequency\": 21, \"value\": \"swiss\"}, \"knw\": {\"frequency\": 21, \"value\": \"knw\"}, \"spend\": {\"frequency\": 24, \"value\": \"spend\"}, \"modinotegate\": {\"frequency\": 29, \"value\": \"modinotegate\"}, \"questions\": {\"frequency\": 64, \"value\": \"questions\"}, \"patel\": {\"frequency\": 26, \"value\": \"patel\"}, \"cut\": {\"frequency\": 31, \"value\": \"cut\"}, \"workers\": {\"frequency\": 73, \"value\": \"workers\"}, \"dhan\": {\"frequency\": 54, \"value\": \"dhan\"}, \"source\": {\"frequency\": 94, \"value\": \"source\"}, \"crying\": {\"frequency\": 65, \"value\": \"crying\"}, \"surprised\": {\"frequency\": 33, \"value\": \"surprised\"}, \"customers\": {\"frequency\": 44, \"value\": \"customers\"}, \"march\": {\"frequency\": 87, \"value\": \"march\"}, \"emergency\": {\"frequency\": 38, \"value\": \"emergency\"}, \"demands\": {\"frequency\": 21, \"value\": \"demands\"}, \"big\": {\"frequency\": 229, \"value\": \"big\"}, \"showing\": {\"frequency\": 71, \"value\": \"showing\"}, \"game\": {\"frequency\": 35, \"value\": \"game\"}, \"bit\": {\"frequency\": 214, \"value\": \"bit\"}, \"success\": {\"frequency\": 91, \"value\": \"success\"}, \"continue\": {\"frequency\": 42, \"value\": \"continue\"}, \"clipping\": {\"frequency\": 27, \"value\": \"clipping\"}, \"google\": {\"frequency\": 34, \"value\": \"google\"}, \"absolutely\": {\"frequency\": 29, \"value\": \"absolutely\"}, \"fakecurrency\": {\"frequency\": 18, \"value\": \"fakecurrency\"}, \"1st\": {\"frequency\": 56, \"value\": \"1st\"}, \"back\": {\"frequency\": 338, \"value\": \"back\"}, \"b4\": {\"frequency\": 36, \"value\": \"b4\"}, \"economic\": {\"frequency\": 120, \"value\": \"economic\"}, \"28th\": {\"frequency\": 22, \"value\": \"28th\"}, \"livemint\": {\"frequency\": 27, \"value\": \"livemint\"}, \"sharma\": {\"frequency\": 26, \"value\": \"sharma\"}, \"affects\": {\"frequency\": 24, \"value\": \"affects\"}, \"decision\": {\"frequency\": 408, \"value\": \"decision\"}, \"noteloot\": {\"frequency\": 21, \"value\": \"noteloot\"}, \"religion\": {\"frequency\": 20, \"value\": \"religion\"}, \"anna\": {\"frequency\": 81, \"value\": \"anna\"}, \"cashless\": {\"frequency\": 140, \"value\": \"cashless\"}, \"inconvenience\": {\"frequency\": 135, \"value\": \"inconvenience\"}, \"run\": {\"frequency\": 104, \"value\": \"run\"}, \"bc\": {\"frequency\": 23, \"value\": \"bc\"}, \"word\": {\"frequency\": 36, \"value\": \"word\"}, \"bt\": {\"frequency\": 62, \"value\": \"bt\"}, \"step\": {\"frequency\": 319, \"value\": \"step\"}, \"cannons\": {\"frequency\": 24, \"value\": \"cannons\"}, \"wealth\": {\"frequency\": 34, \"value\": \"wealth\"}, \"faith\": {\"frequency\": 20, \"value\": \"faith\"}, \"plunder\": {\"frequency\": 35, \"value\": \"plunder\"}, \"ids\": {\"frequency\": 19, \"value\": \"ids\"}, \"drama\": {\"frequency\": 74, \"value\": \"drama\"}, \"slams\": {\"frequency\": 25, \"value\": \"slams\"}, \"gujarat\": {\"frequency\": 31, \"value\": \"gujarat\"}, \"pollution\": {\"frequency\": 28, \"value\": \"pollution\"}, \"terrorists\": {\"frequency\": 47, \"value\": \"terrorists\"}, \"visit\": {\"frequency\": 36, \"value\": \"visit\"}, \"cashcleanup\": {\"frequency\": 110, \"value\": \"cashcleanup\"}, \"spending\": {\"frequency\": 20, \"value\": \"spending\"}, \"question\": {\"frequency\": 61, \"value\": \"question\"}, \"long\": {\"frequency\": 246, \"value\": \"long\"}, \"vendors\": {\"frequency\": 51, \"value\": \"vendors\"}, \"forward\": {\"frequency\": 31, \"value\": \"forward\"}, \"opposed\": {\"frequency\": 33, \"value\": \"opposed\"}, \"files\": {\"frequency\": 47, \"value\": \"files\"}, \"properly\": {\"frequency\": 28, \"value\": \"properly\"}, \"link\": {\"frequency\": 62, \"value\": \"link\"}, \"branch\": {\"frequency\": 52, \"value\": \"branch\"}, \"raisina\": {\"frequency\": 30, \"value\": \"raisina\"}, \"line\": {\"frequency\": 99, \"value\": \"line\"}, \"raising\": {\"frequency\": 21, \"value\": \"raising\"}, \"info\": {\"frequency\": 24, \"value\": \"info\"}, \"corrupts\": {\"frequency\": 22, \"value\": \"corrupts\"}, \"utm\": {\"frequency\": 91, \"value\": \"utm\"}, \"malik\": {\"frequency\": 37, \"value\": \"malik\"}, \"similar\": {\"frequency\": 20, \"value\": \"similar\"}, \"called\": {\"frequency\": 112, \"value\": \"called\"}, \"monumental\": {\"frequency\": 35, \"value\": \"monumental\"}, \"cover\": {\"frequency\": 26, \"value\": \"cover\"}, \"doesn\": {\"frequency\": 72, \"value\": \"doesn\"}, \"single\": {\"frequency\": 52, \"value\": \"single\"}, \"curb\": {\"frequency\": 78, \"value\": \"curb\"}, \"rally\": {\"frequency\": 31, \"value\": \"rally\"}, \"peace\": {\"frequency\": 21, \"value\": \"peace\"}, \"politicians\": {\"frequency\": 200, \"value\": \"politicians\"}, \"income\": {\"frequency\": 69, \"value\": \"income\"}, \"nice\": {\"frequency\": 21, \"value\": \"nice\"}, \"problems\": {\"frequency\": 98, \"value\": \"problems\"}, \"resign\": {\"frequency\": 20, \"value\": \"resign\"}, \"prepared\": {\"frequency\": 64, \"value\": \"prepared\"}, \"regulations\": {\"frequency\": 30, \"value\": \"regulations\"}, \"demoditisation\": {\"frequency\": 47, \"value\": \"demoditisation\"}, \"bcoz\": {\"frequency\": 46, \"value\": \"bcoz\"}, \"land\": {\"frequency\": 77, \"value\": \"land\"}, \"required\": {\"frequency\": 29, \"value\": \"required\"}, \"krantikaripost\": {\"frequency\": 20, \"value\": \"krantikaripost\"}, \"bankers\": {\"frequency\": 57, \"value\": \"bankers\"}, \"2000\": {\"frequency\": 184, \"value\": \"2000\"}, \"train\": {\"frequency\": 41, \"value\": \"train\"}, \"fresh\": {\"frequency\": 20, \"value\": \"fresh\"}, \"scroll\": {\"frequency\": 32, \"value\": \"scroll\"}, \"cashchaos\": {\"frequency\": 21, \"value\": \"cashchaos\"}, \"ndtv\": {\"frequency\": 139, \"value\": \"ndtv\"}, \"results\": {\"frequency\": 63, \"value\": \"results\"}, \"gang\": {\"frequency\": 20, \"value\": \"gang\"}, \"gl\": {\"frequency\": 210, \"value\": \"gl\"}, \"issues\": {\"frequency\": 60, \"value\": \"issues\"}, \"indianexpress\": {\"frequency\": 80, \"value\": \"indianexpress\"}, \"rs500andrs1000\": {\"frequency\": 22, \"value\": \"rs500andrs1000\"}, \"sakshi\": {\"frequency\": 28, \"value\": \"sakshi\"}, \"rollback\": {\"frequency\": 53, \"value\": \"rollback\"}, \"continues\": {\"frequency\": 27, \"value\": \"continues\"}, \"facebook\": {\"frequency\": 52, \"value\": \"facebook\"}, \"telling\": {\"frequency\": 29, \"value\": \"telling\"}, \"entire\": {\"frequency\": 74, \"value\": \"entire\"}, \"notes\": {\"frequency\": 988, \"value\": \"notes\"}, \"shock\": {\"frequency\": 29, \"value\": \"shock\"}, \"video\": {\"frequency\": 182, \"value\": \"video\"}, \"odd\": {\"frequency\": 25, \"value\": \"odd\"}, \"abplive\": {\"frequency\": 39, \"value\": \"abplive\"}, \"business\": {\"frequency\": 211, \"value\": \"business\"}, \"giving\": {\"frequency\": 52, \"value\": \"giving\"}, \"rukh\": {\"frequency\": 84, \"value\": \"rukh\"}, \"indias\": {\"frequency\": 23, \"value\": \"indias\"}, \"onitisation\": {\"frequency\": 25, \"value\": \"onitisation\"}, \"waiting\": {\"frequency\": 57, \"value\": \"waiting\"}, \"indian\": {\"frequency\": 366, \"value\": \"indian\"}, \"exercise\": {\"frequency\": 38, \"value\": \"exercise\"}, \"body\": {\"frequency\": 33, \"value\": \"body\"}, \"led\": {\"frequency\": 101, \"value\": \"led\"}, \"exchange\": {\"frequency\": 160, \"value\": \"exchange\"}, \"naxals\": {\"frequency\": 23, \"value\": \"naxals\"}, \"convert\": {\"frequency\": 26, \"value\": \"convert\"}, \"guts\": {\"frequency\": 20, \"value\": \"guts\"}, \"30\": {\"frequency\": 68, \"value\": \"30\"}, \"survey\": {\"frequency\": 117, \"value\": \"survey\"}, \"defeat\": {\"frequency\": 23, \"value\": \"defeat\"}, \"opinion\": {\"frequency\": 79, \"value\": \"opinion\"}, \"implement\": {\"frequency\": 28, \"value\": \"implement\"}, \"makes\": {\"frequency\": 49, \"value\": \"makes\"}, \"wid\": {\"frequency\": 28, \"value\": \"wid\"}, \"demonitization\": {\"frequency\": 66, \"value\": \"demonitization\"}, \"heart\": {\"frequency\": 37, \"value\": \"heart\"}, \"win\": {\"frequency\": 36, \"value\": \"win\"}, \"app\": {\"frequency\": 84, \"value\": \"app\"}, \"private\": {\"frequency\": 58, \"value\": \"private\"}, \"narendramodi\": {\"frequency\": 109, \"value\": \"narendramodi\"}, \"standing\": {\"frequency\": 102, \"value\": \"standing\"}, \"illegal\": {\"frequency\": 32, \"value\": \"illegal\"}, \"ministers\": {\"frequency\": 22, \"value\": \"ministers\"}, \"doubt\": {\"frequency\": 30, \"value\": \"doubt\"}, \"mayawati\": {\"frequency\": 49, \"value\": \"mayawati\"}, \"baba\": {\"frequency\": 22, \"value\": \"baba\"}, \"parliament\": {\"frequency\": 154, \"value\": \"parliament\"}, \"started\": {\"frequency\": 81, \"value\": \"started\"}, \"econ\": {\"frequency\": 23, \"value\": \"econ\"}, \"opposing\": {\"frequency\": 205, \"value\": \"opposing\"}, \"women\": {\"frequency\": 35, \"value\": \"women\"}, \"account\": {\"frequency\": 63, \"value\": \"account\"}, \"challenge\": {\"frequency\": 26, \"value\": \"challenge\"}, \"praise\": {\"frequency\": 22, \"value\": \"praise\"}, \"meet\": {\"frequency\": 49, \"value\": \"meet\"}, \"proof\": {\"frequency\": 28, \"value\": \"proof\"}, \"control\": {\"frequency\": 41, \"value\": \"control\"}, \"process\": {\"frequency\": 92, \"value\": \"process\"}, \"tax\": {\"frequency\": 158, \"value\": \"tax\"}, \"paisapaisanaraha\": {\"frequency\": 28, \"value\": \"paisapaisanaraha\"}, \"high\": {\"frequency\": 86, \"value\": \"high\"}, \"voice\": {\"frequency\": 31, \"value\": \"voice\"}, \"tak\": {\"frequency\": 28, \"value\": \"tak\"}, \"sir\": {\"frequency\": 605, \"value\": \"sir\"}, \"united\": {\"frequency\": 29, \"value\": \"united\"}, \"democracy\": {\"frequency\": 21, \"value\": \"democracy\"}, \"traders\": {\"frequency\": 38, \"value\": \"traders\"}, \"kolkata\": {\"frequency\": 32, \"value\": \"kolkata\"}, \"counterfeit\": {\"frequency\": 23, \"value\": \"counterfeit\"}, \"panic\": {\"frequency\": 77, \"value\": \"panic\"}, \"stock\": {\"frequency\": 30, \"value\": \"stock\"}, \"de\": {\"frequency\": 45, \"value\": \"de\"}, \"watch\": {\"frequency\": 213, \"value\": \"watch\"}, \"cashrush\": {\"frequency\": 35, \"value\": \"cashrush\"}, \"hazare\": {\"frequency\": 58, \"value\": \"hazare\"}, \"solidarity\": {\"frequency\": 32, \"value\": \"solidarity\"}, \"counter\": {\"frequency\": 46, \"value\": \"counter\"}, \"lines\": {\"frequency\": 30, \"value\": \"lines\"}, \"chief\": {\"frequency\": 33, \"value\": \"chief\"}, \"agenda\": {\"frequency\": 26, \"value\": \"agenda\"}, \"move\": {\"frequency\": 677, \"value\": \"move\"}, \"including\": {\"frequency\": 45, \"value\": \"including\"}, \"stopdemonetisation\": {\"frequency\": 20, \"value\": \"stopdemonetisation\"}, \"perfect\": {\"frequency\": 24, \"value\": \"perfect\"}, \"write\": {\"frequency\": 31, \"value\": \"write\"}, \"ln\": {\"frequency\": 122, \"value\": \"ln\"}, \"lo\": {\"frequency\": 21, \"value\": \"lo\"}, \"masses\": {\"frequency\": 20, \"value\": \"masses\"}, \"2019\": {\"frequency\": 23, \"value\": \"2019\"}, \"2014\": {\"frequency\": 26, \"value\": \"2014\"}, \"2016\": {\"frequency\": 344, \"value\": \"2016\"}, \"ly\": {\"frequency\": 315, \"value\": \"ly\"}, \"greater\": {\"frequency\": 31, \"value\": \"greater\"}, \"dat\": {\"frequency\": 51, \"value\": \"dat\"}, \"front\": {\"frequency\": 36, \"value\": \"front\"}, \"day\": {\"frequency\": 229, \"value\": \"day\"}, \"truth\": {\"frequency\": 44, \"value\": \"truth\"}, \"shortage\": {\"frequency\": 20, \"value\": \"shortage\"}, \"surat\": {\"frequency\": 30, \"value\": \"surat\"}, \"modi\": {\"frequency\": 1781, \"value\": \"modi\"}, \"bills\": {\"frequency\": 25, \"value\": \"bills\"}, \"parties\": {\"frequency\": 249, \"value\": \"parties\"}, \"related\": {\"frequency\": 39, \"value\": \"related\"}, \"society\": {\"frequency\": 32, \"value\": \"society\"}, \"measure\": {\"frequency\": 22, \"value\": \"measure\"}, \"80\": {\"frequency\": 76, \"value\": \"80\"}, \"86\": {\"frequency\": 39, \"value\": \"86\"}, \"janta\": {\"frequency\": 23, \"value\": \"janta\"}, \"chaos\": {\"frequency\": 128, \"value\": \"chaos\"}, \"supports\": {\"frequency\": 72, \"value\": \"supports\"}, \"announced\": {\"frequency\": 102, \"value\": \"announced\"}, \"shut\": {\"frequency\": 23, \"value\": \"shut\"}, \"shud\": {\"frequency\": 57, \"value\": \"shud\"}, \"surely\": {\"frequency\": 40, \"value\": \"surely\"}, \"timesnow\": {\"frequency\": 51, \"value\": \"timesnow\"}, \"times\": {\"frequency\": 103, \"value\": \"times\"}, \"karnataka\": {\"frequency\": 20, \"value\": \"karnataka\"}, \"playlist\": {\"frequency\": 27, \"value\": \"playlist\"}, \"management\": {\"frequency\": 31, \"value\": \"management\"}, \"aaptards\": {\"frequency\": 24, \"value\": \"aaptards\"}, \"data\": {\"frequency\": 22, \"value\": \"data\"}, \"system\": {\"frequency\": 85, \"value\": \"system\"}, \"attack\": {\"frequency\": 41, \"value\": \"attack\"}, \"haven\": {\"frequency\": 21, \"value\": \"haven\"}, \"gaya\": {\"frequency\": 43, \"value\": \"gaya\"}, \"gaye\": {\"frequency\": 23, \"value\": \"gaye\"}, \"compensation\": {\"frequency\": 20, \"value\": \"compensation\"}, \"visited\": {\"frequency\": 20, \"value\": \"visited\"}, \"india\": {\"frequency\": 1396, \"value\": \"india\"}, \"3novices\": {\"frequency\": 24, \"value\": \"3novices\"}, \"commonman\": {\"frequency\": 55, \"value\": \"commonman\"}, \"fail\": {\"frequency\": 41, \"value\": \"fail\"}, \"border\": {\"frequency\": 30, \"value\": \"border\"}, \"congrats\": {\"frequency\": 20, \"value\": \"congrats\"}, \"funds\": {\"frequency\": 35, \"value\": \"funds\"}, \"singh\": {\"frequency\": 152, \"value\": \"singh\"}, \"centre\": {\"frequency\": 73, \"value\": \"centre\"}, \"petrol\": {\"frequency\": 22, \"value\": \"petrol\"}, \"rajan\": {\"frequency\": 49, \"value\": \"rajan\"}, \"payment\": {\"frequency\": 46, \"value\": \"payment\"}, \"upset\": {\"frequency\": 24, \"value\": \"upset\"}, \"face\": {\"frequency\": 108, \"value\": \"face\"}, \"talk\": {\"frequency\": 50, \"value\": \"talk\"}, \"crore\": {\"frequency\": 110, \"value\": \"crore\"}, \"fact\": {\"frequency\": 43, \"value\": \"fact\"}, \"gain\": {\"frequency\": 31, \"value\": \"gain\"}, \"vasudha\": {\"frequency\": 26, \"value\": \"vasudha\"}, \"supported\": {\"frequency\": 65, \"value\": \"supported\"}, \"bring\": {\"frequency\": 118, \"value\": \"bring\"}, \"planning\": {\"frequency\": 103, \"value\": \"planning\"}, \"utter\": {\"frequency\": 22, \"value\": \"utter\"}, \"fear\": {\"frequency\": 34, \"value\": \"fear\"}, \"economist\": {\"frequency\": 72, \"value\": \"economist\"}, \"supporter\": {\"frequency\": 20, \"value\": \"supporter\"}, \"staff\": {\"frequency\": 41, \"value\": \"staff\"}, \"q2\": {\"frequency\": 49, \"value\": \"q2\"}, \"based\": {\"frequency\": 26, \"value\": \"based\"}, \"mumbai\": {\"frequency\": 112, \"value\": \"mumbai\"}, \"jan\": {\"frequency\": 45, \"value\": \"jan\"}, \"paisa\": {\"frequency\": 22, \"value\": \"paisa\"}, \"jai\": {\"frequency\": 54, \"value\": \"jai\"}, \"local\": {\"frequency\": 39, \"value\": \"local\"}, \"hope\": {\"frequency\": 136, \"value\": \"hope\"}, \"exchanged\": {\"frequency\": 23, \"value\": \"exchanged\"}, \"handle\": {\"frequency\": 33, \"value\": \"handle\"}, \"means\": {\"frequency\": 84, \"value\": \"means\"}, \"bear\": {\"frequency\": 34, \"value\": \"bear\"}, \"fallout\": {\"frequency\": 20, \"value\": \"fallout\"}, \"areas\": {\"frequency\": 25, \"value\": \"areas\"}, \"qs\": {\"frequency\": 20, \"value\": \"qs\"}, \"taxes\": {\"frequency\": 23, \"value\": \"taxes\"}, \"calling\": {\"frequency\": 29, \"value\": \"calling\"}, \"shd\": {\"frequency\": 41, \"value\": \"shd\"}, \"view\": {\"frequency\": 93, \"value\": \"view\"}, \"national\": {\"frequency\": 181, \"value\": \"national\"}, \"officials\": {\"frequency\": 34, \"value\": \"officials\"}, \"hardship\": {\"frequency\": 26, \"value\": \"hardship\"}, \"statu\": {\"frequency\": 280, \"value\": \"statu\"}, \"reform\": {\"frequency\": 29, \"value\": \"reform\"}, \"rolled\": {\"frequency\": 21, \"value\": \"rolled\"}, \"written\": {\"frequency\": 20, \"value\": \"written\"}, \"difficulties\": {\"frequency\": 20, \"value\": \"difficulties\"}, \"closed\": {\"frequency\": 29, \"value\": \"closed\"}, \"stories\": {\"frequency\": 29, \"value\": \"stories\"}, \"frustrated\": {\"frequency\": 22, \"value\": \"frustrated\"}, \"bought\": {\"frequency\": 29, \"value\": \"bought\"}, \"job\": {\"frequency\": 51, \"value\": \"job\"}, \"hits\": {\"frequency\": 79, \"value\": \"hits\"}, \"netas\": {\"frequency\": 31, \"value\": \"netas\"}, \"joke\": {\"frequency\": 41, \"value\": \"joke\"}, \"taking\": {\"frequency\": 93, \"value\": \"taking\"}, \"atleast\": {\"frequency\": 32, \"value\": \"atleast\"}, \"jio\": {\"frequency\": 23, \"value\": \"jio\"}, \"ll\": {\"frequency\": 72, \"value\": \"ll\"}, \"comment\": {\"frequency\": 25, \"value\": \"comment\"}, \"cm\": {\"frequency\": 137, \"value\": \"cm\"}, \"cc\": {\"frequency\": 20, \"value\": \"cc\"}, \"respect\": {\"frequency\": 47, \"value\": \"respect\"}, \"ambani\": {\"frequency\": 29, \"value\": \"ambani\"}, \"hindu\": {\"frequency\": 28, \"value\": \"hindu\"}, \"bbc\": {\"frequency\": 27, \"value\": \"bbc\"}, \"cent\": {\"frequency\": 19, \"value\": \"cent\"}, \"hindi\": {\"frequency\": 29, \"value\": \"hindi\"}, \"waste\": {\"frequency\": 22, \"value\": \"waste\"}, \"policy\": {\"frequency\": 164, \"value\": \"policy\"}, \"present\": {\"frequency\": 33, \"value\": \"present\"}, \"rbi\": {\"frequency\": 211, \"value\": \"rbi\"}, \"hahaha\": {\"frequency\": 21, \"value\": \"hahaha\"}, \"ve\": {\"frequency\": 91, \"value\": \"ve\"}, \"demo\": {\"frequency\": 22, \"value\": \"demo\"}, \"narendra\": {\"frequency\": 207, \"value\": \"narendra\"}, \"helped\": {\"frequency\": 37, \"value\": \"helped\"}, \"oneindia\": {\"frequency\": 84, \"value\": \"oneindia\"}, \"terrorist\": {\"frequency\": 34, \"value\": \"terrorist\"}, \"party\": {\"frequency\": 204, \"value\": \"party\"}, \"terrorism\": {\"frequency\": 59, \"value\": \"terrorism\"}, \"blackmoneycleanup\": {\"frequency\": 65, \"value\": \"blackmoneycleanup\"}, \"difficult\": {\"frequency\": 26, \"value\": \"difficult\"}, \"logic\": {\"frequency\": 71, \"value\": \"logic\"}, \"effect\": {\"frequency\": 318, \"value\": \"effect\"}, \"php\": {\"frequency\": 27, \"value\": \"php\"}, \"transaction\": {\"frequency\": 39, \"value\": \"transaction\"}, \"ama\": {\"frequency\": 25, \"value\": \"ama\"}, \"fighting\": {\"frequency\": 33, \"value\": \"fighting\"}, \"thought\": {\"frequency\": 80, \"value\": \"thought\"}, \"english\": {\"frequency\": 29, \"value\": \"english\"}, \"usual\": {\"frequency\": 36, \"value\": \"usual\"}, \"lakh\": {\"frequency\": 114, \"value\": \"lakh\"}, \"web\": {\"frequency\": 62, \"value\": \"web\"}, \"rashtrapati\": {\"frequency\": 26, \"value\": \"rashtrapati\"}, \"cashlesseconomy\": {\"frequency\": 41, \"value\": \"cashlesseconomy\"}, \"point\": {\"frequency\": 60, \"value\": \"point\"}, \"deposits\": {\"frequency\": 81, \"value\": \"deposits\"}, \"killed\": {\"frequency\": 34, \"value\": \"killed\"}, \"reasons\": {\"frequency\": 28, \"value\": \"reasons\"}, \"add\": {\"frequency\": 24, \"value\": \"add\"}, \"citizen\": {\"frequency\": 38, \"value\": \"citizen\"}, \"smart\": {\"frequency\": 27, \"value\": \"smart\"}, \"tizzy\": {\"frequency\": 29, \"value\": \"tizzy\"}, \"unaccounted\": {\"frequency\": 26, \"value\": \"unaccounted\"}, \"government\": {\"frequency\": 266, \"value\": \"government\"}, \"bhakts\": {\"frequency\": 74, \"value\": \"bhakts\"}, \"historic\": {\"frequency\": 33, \"value\": \"historic\"}, \"desh\": {\"frequency\": 47, \"value\": \"desh\"}, \"press\": {\"frequency\": 65, \"value\": \"press\"}, \"immediately\": {\"frequency\": 27, \"value\": \"immediately\"}, \"loss\": {\"frequency\": 78, \"value\": \"loss\"}, \"lost\": {\"frequency\": 195, \"value\": \"lost\"}, \"payments\": {\"frequency\": 51, \"value\": \"payments\"}, \"lose\": {\"frequency\": 26, \"value\": \"lose\"}, \"works\": {\"frequency\": 43, \"value\": \"works\"}, \"drop\": {\"frequency\": 23, \"value\": \"drop\"}, \"twitter\": {\"frequency\": 4569, \"value\": \"twitter\"}, \"hain\": {\"frequency\": 65, \"value\": \"hain\"}, \"hail\": {\"frequency\": 29, \"value\": \"hail\"}, \"odisha\": {\"frequency\": 37, \"value\": \"odisha\"}, \"growth\": {\"frequency\": 49, \"value\": \"growth\"}, \"proper\": {\"frequency\": 33, \"value\": \"proper\"}, \"home\": {\"frequency\": 62, \"value\": \"home\"}, \"lead\": {\"frequency\": 44, \"value\": \"lead\"}, \"rural\": {\"frequency\": 76, \"value\": \"rural\"}, \"leak\": {\"frequency\": 24, \"value\": \"leak\"}, \"avoid\": {\"frequency\": 22, \"value\": \"avoid\"}, \"tmc\": {\"frequency\": 91, \"value\": \"tmc\"}, \"leader\": {\"frequency\": 76, \"value\": \"leader\"}, \"pressure\": {\"frequency\": 22, \"value\": \"pressure\"}, \"loans\": {\"frequency\": 38, \"value\": \"loans\"}, \"nda\": {\"frequency\": 27, \"value\": \"nda\"}, \"surge\": {\"frequency\": 20, \"value\": \"surge\"}, \"dilipkpandey\": {\"frequency\": 25, \"value\": \"dilipkpandey\"}, \"doesnt\": {\"frequency\": 20, \"value\": \"doesnt\"}, \"mere\": {\"frequency\": 40, \"value\": \"mere\"}, \"uniindia\": {\"frequency\": 28, \"value\": \"uniindia\"}, \"intention\": {\"frequency\": 23, \"value\": \"intention\"}, \"exchanging\": {\"frequency\": 24, \"value\": \"exchanging\"}, \"indiafightsblackmoney\": {\"frequency\": 19, \"value\": \"indiafightsblackmo ...\"}, \"biggest\": {\"frequency\": 98, \"value\": \"biggest\"}, \"yrs\": {\"frequency\": 31, \"value\": \"yrs\"}, \"banerjee\": {\"frequency\": 78, \"value\": \"banerjee\"}, \"buy\": {\"frequency\": 57, \"value\": \"buy\"}, \"hs\": {\"frequency\": 21, \"value\": \"hs\"}, \"hv\": {\"frequency\": 152, \"value\": \"hv\"}, \"rahulgandhi\": {\"frequency\": 27, \"value\": \"rahulgandhi\"}, \"rs500\": {\"frequency\": 42, \"value\": \"rs500\"}, \"ho\": {\"frequency\": 118, \"value\": \"ho\"}, \"hc\": {\"frequency\": 23, \"value\": \"hc\"}, \"ha\": {\"frequency\": 27, \"value\": \"ha\"}, \"rahul\": {\"frequency\": 101, \"value\": \"rahul\"}, \"made\": {\"frequency\": 172, \"value\": \"made\"}, \"protesting\": {\"frequency\": 45, \"value\": \"protesting\"}, \"limit\": {\"frequency\": 49, \"value\": \"limit\"}, \"pl\": {\"frequency\": 83, \"value\": \"pl\"}, \"problem\": {\"frequency\": 154, \"value\": \"problem\"}, \"piece\": {\"frequency\": 29, \"value\": \"piece\"}, \"youthcongress\": {\"frequency\": 86, \"value\": \"youthcongress\"}, \"supreme\": {\"frequency\": 41, \"value\": \"supreme\"}, \"deaths\": {\"frequency\": 124, \"value\": \"deaths\"}, \"ki\": {\"frequency\": 172, \"value\": \"ki\"}, \"pic\": {\"frequency\": 2330, \"value\": \"pic\"}, \"inr\": {\"frequency\": 21, \"value\": \"inr\"}, \"ink\": {\"frequency\": 27, \"value\": \"ink\"}, \"ind\": {\"frequency\": 25, \"value\": \"ind\"}, \"effected\": {\"frequency\": 31, \"value\": \"effected\"}, \"40\": {\"frequency\": 29, \"value\": \"40\"}, \"details\": {\"frequency\": 22, \"value\": \"details\"}, \"timesofindia\": {\"frequency\": 126, \"value\": \"timesofindia\"}, \"stat\": {\"frequency\": 242, \"value\": \"stat\"}, \"lauds\": {\"frequency\": 35, \"value\": \"lauds\"}, \"class\": {\"frequency\": 84, \"value\": \"class\"}, \"stay\": {\"frequency\": 42, \"value\": \"stay\"}, \"chance\": {\"frequency\": 28, \"value\": \"chance\"}, \"cheque\": {\"frequency\": 20, \"value\": \"cheque\"}, \"friends\": {\"frequency\": 59, \"value\": \"friends\"}, \"blogs\": {\"frequency\": 34, \"value\": \"blogs\"}, \"rule\": {\"frequency\": 24, \"value\": \"rule\"}, \"nitish\": {\"frequency\": 38, \"value\": \"nitish\"}, \"understand\": {\"frequency\": 145, \"value\": \"understand\"}, \"8th\": {\"frequency\": 34, \"value\": \"8th\"}}, \"size\": 203615}, \"progress\": 1.0, \"values\": {\"std\": 0.22629282588593944, \"complete\": true, \"min\": 1.0, \"max\": 10.0, \"quantile\": [1.0, 1.0, 1.0, 1.0, 1.0, 1.0, 1.0, 1.0, 1.0, 1.0, 1.0, 1.0, 1.0, 1.0, 1.0, 1.0, 1.0, 1.0, 1.0, 1.0, 1.0, 1.0, 1.0, 1.0, 1.0, 1.0, 1.0, 1.0, 1.0, 1.0, 1.0, 1.0, 1.0, 1.0, 1.0, 1.0, 1.0, 1.0, 1.0, 1.0, 1.0, 1.0, 1.0, 1.0, 1.0, 1.0, 1.0, 1.0, 1.0, 1.0, 1.0, 1.0, 1.0, 1.0, 1.0, 1.0, 1.0, 1.0, 1.0, 1.0, 1.0, 1.0, 1.0, 1.0, 1.0, 1.0, 1.0, 1.0, 1.0, 1.0, 1.0, 1.0, 1.0, 1.0, 1.0, 1.0, 1.0, 1.0, 1.0, 1.0, 1.0, 1.0, 1.0, 1.0, 1.0, 1.0, 1.0, 1.0, 1.0, 1.0, 1.0, 1.0, 1.0, 1.0, 1.0, 1.0, 2.0, 2.0, 2.0, 2.0, 10.0], \"median\": 1.0, \"numeric\": true, \"num_unique\": 6, \"num_undefined\": 0, \"var\": 0.051208443047444104, \"progress\": 1.0, \"size\": 203615, \"frequent_items\": {\"1.0\": {\"frequency\": 194409, \"value\": 1.0}, \"2.0\": {\"frequency\": 8785, \"value\": 2.0}, \"3.0\": {\"frequency\": 357, \"value\": 3.0}, \"4.0\": {\"frequency\": 59, \"value\": 4.0}, \"5.0\": {\"frequency\": 4, \"value\": 5.0}, \"10.0\": {\"frequency\": 1, \"value\": 10.0}}, \"mean\": 1.0476438376347506}, \"complete\": true, \"num_undefined\": 0}, \"selected_variable\": {\"name\": [\"<SArray>\"], \"dtype\": \"dict\", \"view_component\": \"Dictionary\", \"view_file\": \"sarray\", \"descriptives\": {\"rows\": 19613}, \"type\": \"SArray\", \"view_components\": [\"Dictionary\"]}, \"histogram\": null}, e);\n",
       "                });\n",
       "            })();\n",
       "        "
      ]
     },
     "metadata": {},
     "output_type": "display_data"
    }
   ],
   "source": [
    "tweets['textstoprem'].show()"
   ]
  },
  {
   "cell_type": "code",
   "execution_count": 64,
   "metadata": {
    "collapsed": false
   },
   "outputs": [
    {
     "data": {
      "text/html": [
       "<pre>Learning a topic model</pre>"
      ],
      "text/plain": [
       "Learning a topic model"
      ]
     },
     "metadata": {},
     "output_type": "display_data"
    },
    {
     "data": {
      "text/html": [
       "<pre>       Number of documents     19613</pre>"
      ],
      "text/plain": [
       "       Number of documents     19613"
      ]
     },
     "metadata": {},
     "output_type": "display_data"
    },
    {
     "data": {
      "text/html": [
       "<pre>           Vocabulary size     30054</pre>"
      ],
      "text/plain": [
       "           Vocabulary size     30054"
      ]
     },
     "metadata": {},
     "output_type": "display_data"
    },
    {
     "data": {
      "text/html": [
       "<pre>   Running collapsed Gibbs sampling</pre>"
      ],
      "text/plain": [
       "   Running collapsed Gibbs sampling"
      ]
     },
     "metadata": {},
     "output_type": "display_data"
    },
    {
     "data": {
      "text/html": [
       "<pre>+-----------+---------------+----------------+-----------------+</pre>"
      ],
      "text/plain": [
       "+-----------+---------------+----------------+-----------------+"
      ]
     },
     "metadata": {},
     "output_type": "display_data"
    },
    {
     "data": {
      "text/html": [
       "<pre>| Iteration | Elapsed Time  | Tokens/Second  | Est. Perplexity |</pre>"
      ],
      "text/plain": [
       "| Iteration | Elapsed Time  | Tokens/Second  | Est. Perplexity |"
      ]
     },
     "metadata": {},
     "output_type": "display_data"
    },
    {
     "data": {
      "text/html": [
       "<pre>+-----------+---------------+----------------+-----------------+</pre>"
      ],
      "text/plain": [
       "+-----------+---------------+----------------+-----------------+"
      ]
     },
     "metadata": {},
     "output_type": "display_data"
    },
    {
     "data": {
      "text/html": [
       "<pre>| 10        | 1.89s         | 1.09366e+06    | 0               |</pre>"
      ],
      "text/plain": [
       "| 10        | 1.89s         | 1.09366e+06    | 0               |"
      ]
     },
     "metadata": {},
     "output_type": "display_data"
    },
    {
     "data": {
      "text/html": [
       "<pre>+-----------+---------------+----------------+-----------------+</pre>"
      ],
      "text/plain": [
       "+-----------+---------------+----------------+-----------------+"
      ]
     },
     "metadata": {},
     "output_type": "display_data"
    }
   ],
   "source": [
    "model=graphlab.topic_model.create(tweets['textstoprem'],num_topics=10)"
   ]
  },
  {
   "cell_type": "code",
   "execution_count": 62,
   "metadata": {
    "collapsed": false
   },
   "outputs": [
    {
     "data": {
      "text/html": [
       "<div style=\"max-height:1000px;max-width:1500px;overflow:auto;\"><table frame=\"box\" rules=\"cols\">\n",
       "    <tr>\n",
       "        <th style=\"padding-left: 1em; padding-right: 1em; text-align: center\">topic_probabilities</th>\n",
       "        <th style=\"padding-left: 1em; padding-right: 1em; text-align: center\">vocabulary</th>\n",
       "    </tr>\n",
       "    <tr>\n",
       "        <td style=\"padding-left: 1em; padding-right: 1em; text-align: center; vertical-align: top\">[4.0982934706e-06,<br>4.09812551739e-06, ...</td>\n",
       "        <td style=\"padding-left: 1em; padding-right: 1em; text-align: center; vertical-align: top\">madhukishwar</td>\n",
       "    </tr>\n",
       "    <tr>\n",
       "        <td style=\"padding-left: 1em; padding-right: 1em; text-align: center; vertical-align: top\">[4.50812281766e-05,<br>0.00213512339456, ...</td>\n",
       "        <td style=\"padding-left: 1em; padding-right: 1em; text-align: center; vertical-align: top\">tatus</td>\n",
       "    </tr>\n",
       "    <tr>\n",
       "        <td style=\"padding-left: 1em; padding-right: 1em; text-align: center; vertical-align: top\">[4.0982934706e-06,<br>4.09812551739e-06, ...</td>\n",
       "        <td style=\"padding-left: 1em; padding-right: 1em; text-align: center; vertical-align: top\">happened</td>\n",
       "    </tr>\n",
       "    <tr>\n",
       "        <td style=\"padding-left: 1em; padding-right: 1em; text-align: center; vertical-align: top\">[0.202828642153,<br>0.185321334022, ...</td>\n",
       "        <td style=\"padding-left: 1em; padding-right: 1em; text-align: center; vertical-align: top\">demonitisation</td>\n",
       "    </tr>\n",
       "    <tr>\n",
       "        <td style=\"padding-left: 1em; padding-right: 1em; text-align: center; vertical-align: top\">[4.0982934706e-06,<br>4.50793806913e-05, ...</td>\n",
       "        <td style=\"padding-left: 1em; padding-right: 1em; text-align: center; vertical-align: top\">803288710242439169</td>\n",
       "    </tr>\n",
       "    <tr>\n",
       "        <td style=\"padding-left: 1em; padding-right: 1em; text-align: center; vertical-align: top\">[0.000659825248766,<br>0.00098764824969, ...</td>\n",
       "        <td style=\"padding-left: 1em; padding-right: 1em; text-align: center; vertical-align: top\">modi</td>\n",
       "    </tr>\n",
       "    <tr>\n",
       "        <td style=\"padding-left: 1em; padding-right: 1em; text-align: center; vertical-align: top\">[0.000209012967,<br>4.09812551739e-06, ...</td>\n",
       "        <td style=\"padding-left: 1em; padding-right: 1em; text-align: center; vertical-align: top\">pity</td>\n",
       "    </tr>\n",
       "    <tr>\n",
       "        <td style=\"padding-left: 1em; padding-right: 1em; text-align: center; vertical-align: top\">[0.000372944705824,<br>0.000209004401387, ...</td>\n",
       "        <td style=\"padding-left: 1em; padding-right: 1em; text-align: center; vertical-align: top\">started</td>\n",
       "    </tr>\n",
       "    <tr>\n",
       "        <td style=\"padding-left: 1em; padding-right: 1em; text-align: center; vertical-align: top\">[4.0982934706e-06,<br>8.60606358651e-05, ...</td>\n",
       "        <td style=\"padding-left: 1em; padding-right: 1em; text-align: center; vertical-align: top\">twitter</td>\n",
       "    </tr>\n",
       "    <tr>\n",
       "        <td style=\"padding-left: 1em; padding-right: 1em; text-align: center; vertical-align: top\">[4.0982934706e-06,<br>8.60606358651e-05, ...</td>\n",
       "        <td style=\"padding-left: 1em; padding-right: 1em; text-align: center; vertical-align: top\">talking</td>\n",
       "    </tr>\n",
       "</table>\n",
       "[30054 rows x 2 columns]<br/>Note: Only the head of the SFrame is printed.<br/>You can use print_rows(num_rows=m, num_columns=n) to print more rows and columns.\n",
       "</div>"
      ],
      "text/plain": [
       "Columns:\n",
       "\ttopic_probabilities\tarray\n",
       "\tvocabulary\tstr\n",
       "\n",
       "Rows: 30054\n",
       "\n",
       "Data:\n",
       "+-------------------------------+--------------------+\n",
       "|      topic_probabilities      |     vocabulary     |\n",
       "+-------------------------------+--------------------+\n",
       "| [4.0982934706e-06, 4.09812... |    madhukishwar    |\n",
       "| [4.50812281766e-05, 0.0021... |       tatus        |\n",
       "| [4.0982934706e-06, 4.09812... |      happened      |\n",
       "| [0.202828642153, 0.1853213... |   demonitisation   |\n",
       "| [4.0982934706e-06, 4.50793... | 803288710242439169 |\n",
       "| [0.000659825248766, 0.0009... |        modi        |\n",
       "| [0.000209012967, 4.0981255... |        pity        |\n",
       "| [0.000372944705824, 0.0002... |      started       |\n",
       "| [4.0982934706e-06, 8.60606... |      twitter       |\n",
       "| [4.0982934706e-06, 8.60606... |      talking       |\n",
       "+-------------------------------+--------------------+\n",
       "[30054 rows x 2 columns]\n",
       "Note: Only the head of the SFrame is printed.\n",
       "You can use print_rows(num_rows=m, num_columns=n) to print more rows and columns."
      ]
     },
     "execution_count": 62,
     "metadata": {},
     "output_type": "execute_result"
    }
   ],
   "source": [
    "model['topics']"
   ]
  },
  {
   "cell_type": "code",
   "execution_count": 66,
   "metadata": {
    "collapsed": true
   },
   "outputs": [],
   "source": [
    "import re "
   ]
  },
  {
   "cell_type": "code",
   "execution_count": 71,
   "metadata": {
    "collapsed": false
   },
   "outputs": [
    {
     "name": "stdout",
     "output_type": "stream",
     "text": [
      "Yes it s a pity that you also had started talking against Modi and  demonitisation Now what happened  twitter com madhukishwar s tatus 803288710242439169\n",
      "You know how screwed up demonitisation is when even Madhu Kishwar can see its horrible reality  twitter com madhukishwar s tatus 802437715086016512\n",
      "Auntyji  Either its demonitisation or demonisation    twitter com madhukishwar s tatus 802437715086016512\n",
      "3\n"
     ]
    }
   ],
   "source": [
    "c=0\n",
    "for i in tweets['Clean Tweet']:\n",
    "    #if re.search('[aA][Tt][Mm]|[gG][oO][lL][dD]',i)!=None:\n",
    "    if re.search('[m][a][d][h][u][k][i][s][h][w][a][r]',i)!=None:\n",
    "        c=c+1\n",
    "        print (i)\n",
    "print (c)\n",
    "        "
   ]
  },
  {
   "cell_type": "code",
   "execution_count": null,
   "metadata": {
    "collapsed": true
   },
   "outputs": [],
   "source": [
    "for i in tweets['text']:\n",
    "    re.sub('$','')"
   ]
  }
 ],
 "metadata": {
  "kernelspec": {
   "display_name": "Python 2",
   "language": "python",
   "name": "python2"
  },
  "language_info": {
   "codemirror_mode": {
    "name": "ipython",
    "version": 2
   },
   "file_extension": ".py",
   "mimetype": "text/x-python",
   "name": "python",
   "nbconvert_exporter": "python",
   "pygments_lexer": "ipython2",
   "version": "2.7.11"
  }
 },
 "nbformat": 4,
 "nbformat_minor": 0
}
